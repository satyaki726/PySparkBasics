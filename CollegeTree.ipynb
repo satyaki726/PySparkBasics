{
  "nbformat": 4,
  "nbformat_minor": 0,
  "metadata": {
    "colab": {
      "provenance": [],
      "authorship_tag": "ABX9TyMwz8VrV9OtQ27DEWR/CG+B"
    },
    "kernelspec": {
      "name": "python3",
      "display_name": "Python 3"
    },
    "language_info": {
      "name": "python"
    }
  },
  "cells": [
    {
      "cell_type": "code",
      "execution_count": 1,
      "metadata": {
        "colab": {
          "base_uri": "https://localhost:8080/"
        },
        "id": "mI1krJau7jgm",
        "outputId": "8f2fd79a-1ebf-45d3-a390-c0bda02871d6"
      },
      "outputs": [
        {
          "output_type": "stream",
          "name": "stdout",
          "text": [
            "Looking in indexes: https://pypi.org/simple, https://us-python.pkg.dev/colab-wheels/public/simple/\n",
            "Collecting pyspark\n",
            "  Downloading pyspark-3.4.0.tar.gz (310.8 MB)\n",
            "\u001b[2K     \u001b[90m━━━━━━━━━━━━━━━━━━━━━━━━━━━━━━━━━━━━━━━\u001b[0m \u001b[32m310.8/310.8 MB\u001b[0m \u001b[31m4.5 MB/s\u001b[0m eta \u001b[36m0:00:00\u001b[0m\n",
            "\u001b[?25h  Preparing metadata (setup.py) ... \u001b[?25l\u001b[?25hdone\n",
            "Requirement already satisfied: py4j in /usr/local/lib/python3.10/dist-packages (0.10.9.7)\n",
            "Building wheels for collected packages: pyspark\n",
            "  Building wheel for pyspark (setup.py) ... \u001b[?25l\u001b[?25hdone\n",
            "  Created wheel for pyspark: filename=pyspark-3.4.0-py2.py3-none-any.whl size=311317130 sha256=c1ef4ed40fe97273abbce9ab2e983a15382a9bf49d6c4190fcf3f4537263f25b\n",
            "  Stored in directory: /root/.cache/pip/wheels/7b/1b/4b/3363a1d04368e7ff0d408e57ff57966fcdf00583774e761327\n",
            "Successfully built pyspark\n",
            "Installing collected packages: pyspark\n",
            "Successfully installed pyspark-3.4.0\n"
          ]
        }
      ],
      "source": [
        "!pip install pyspark py4j"
      ]
    },
    {
      "cell_type": "code",
      "source": [
        "from pyspark.sql import SparkSession"
      ],
      "metadata": {
        "id": "_tJaJJfp7_-e"
      },
      "execution_count": 2,
      "outputs": []
    },
    {
      "cell_type": "code",
      "source": [
        "spark = SparkSession.builder.appName('college').getOrCreate()"
      ],
      "metadata": {
        "id": "S6tAT_pf8Dkt"
      },
      "execution_count": 5,
      "outputs": []
    },
    {
      "cell_type": "code",
      "source": [
        "data = spark.read.csv(\"College.csv\",inferSchema=True,header=True)"
      ],
      "metadata": {
        "id": "VNPLZbOd8eJm"
      },
      "execution_count": 6,
      "outputs": []
    },
    {
      "cell_type": "code",
      "source": [
        "data.printSchema()"
      ],
      "metadata": {
        "colab": {
          "base_uri": "https://localhost:8080/"
        },
        "id": "s4HXz_nS8mYk",
        "outputId": "c7608823-3e01-4bae-fdc5-aec4da5636b4"
      },
      "execution_count": 7,
      "outputs": [
        {
          "output_type": "stream",
          "name": "stdout",
          "text": [
            "root\n",
            " |-- School: string (nullable = true)\n",
            " |-- Private: string (nullable = true)\n",
            " |-- Apps: integer (nullable = true)\n",
            " |-- Accept: integer (nullable = true)\n",
            " |-- Enroll: integer (nullable = true)\n",
            " |-- Top10perc: integer (nullable = true)\n",
            " |-- Top25perc: integer (nullable = true)\n",
            " |-- F_Undergrad: integer (nullable = true)\n",
            " |-- P_Undergrad: integer (nullable = true)\n",
            " |-- Outstate: integer (nullable = true)\n",
            " |-- Room_Board: integer (nullable = true)\n",
            " |-- Books: integer (nullable = true)\n",
            " |-- Personal: integer (nullable = true)\n",
            " |-- PhD: integer (nullable = true)\n",
            " |-- Terminal: integer (nullable = true)\n",
            " |-- S_F_Ratio: double (nullable = true)\n",
            " |-- perc_alumni: integer (nullable = true)\n",
            " |-- Expend: integer (nullable = true)\n",
            " |-- Grad_Rate: integer (nullable = true)\n",
            "\n"
          ]
        }
      ]
    },
    {
      "cell_type": "code",
      "source": [
        "data.head(1)"
      ],
      "metadata": {
        "colab": {
          "base_uri": "https://localhost:8080/"
        },
        "id": "6HHG5h6z8uVV",
        "outputId": "d3e8ed8b-ddec-4bda-aaa7-63395fc542cc"
      },
      "execution_count": 8,
      "outputs": [
        {
          "output_type": "execute_result",
          "data": {
            "text/plain": [
              "[Row(School='Abilene Christian University', Private='Yes', Apps=1660, Accept=1232, Enroll=721, Top10perc=23, Top25perc=52, F_Undergrad=2885, P_Undergrad=537, Outstate=7440, Room_Board=3300, Books=450, Personal=2200, PhD=70, Terminal=78, S_F_Ratio=18.1, perc_alumni=12, Expend=7041, Grad_Rate=60)]"
            ]
          },
          "metadata": {},
          "execution_count": 8
        }
      ]
    },
    {
      "cell_type": "code",
      "source": [
        "from pyspark.ml.feature import VectorAssembler"
      ],
      "metadata": {
        "id": "q4GgqdHN80ed"
      },
      "execution_count": 9,
      "outputs": []
    },
    {
      "cell_type": "code",
      "source": [
        "data.columns"
      ],
      "metadata": {
        "colab": {
          "base_uri": "https://localhost:8080/"
        },
        "id": "crcPhDYC86mV",
        "outputId": "b759f1e2-12d5-4511-f9d8-1c9045f4be48"
      },
      "execution_count": 10,
      "outputs": [
        {
          "output_type": "execute_result",
          "data": {
            "text/plain": [
              "['School',\n",
              " 'Private',\n",
              " 'Apps',\n",
              " 'Accept',\n",
              " 'Enroll',\n",
              " 'Top10perc',\n",
              " 'Top25perc',\n",
              " 'F_Undergrad',\n",
              " 'P_Undergrad',\n",
              " 'Outstate',\n",
              " 'Room_Board',\n",
              " 'Books',\n",
              " 'Personal',\n",
              " 'PhD',\n",
              " 'Terminal',\n",
              " 'S_F_Ratio',\n",
              " 'perc_alumni',\n",
              " 'Expend',\n",
              " 'Grad_Rate']"
            ]
          },
          "metadata": {},
          "execution_count": 10
        }
      ]
    },
    {
      "cell_type": "code",
      "source": [
        "assembler = VectorAssembler(inputCols=[ 'Apps',\n",
        " 'Accept',\n",
        " 'Enroll',\n",
        " 'Top10perc',\n",
        " 'Top25perc',\n",
        " 'F_Undergrad',\n",
        " 'P_Undergrad',\n",
        " 'Outstate',\n",
        " 'Room_Board',\n",
        " 'Books',\n",
        " 'Personal',\n",
        " 'PhD',\n",
        " 'Terminal',\n",
        " 'S_F_Ratio',\n",
        " 'perc_alumni',\n",
        " 'Expend',\n",
        " 'Grad_Rate'],outputCol ='features')"
      ],
      "metadata": {
        "id": "RTkHPDHv88Q_"
      },
      "execution_count": 11,
      "outputs": []
    },
    {
      "cell_type": "code",
      "source": [
        "output = assembler.transform(data)"
      ],
      "metadata": {
        "id": "EW-HD8Sl9HiZ"
      },
      "execution_count": 12,
      "outputs": []
    },
    {
      "cell_type": "code",
      "source": [
        "from pyspark.ml.feature import StringIndexer"
      ],
      "metadata": {
        "id": "8hoyZ__l9P8u"
      },
      "execution_count": 14,
      "outputs": []
    },
    {
      "cell_type": "code",
      "source": [
        "indexer = StringIndexer(inputCol='Private',outputCol='PrivateIndex')"
      ],
      "metadata": {
        "id": "v6l58p619XgC"
      },
      "execution_count": 15,
      "outputs": []
    },
    {
      "cell_type": "code",
      "source": [
        "output_fixed = indexer.fit(output).transform(output)"
      ],
      "metadata": {
        "id": "ewCTTJSC9q--"
      },
      "execution_count": 16,
      "outputs": []
    },
    {
      "cell_type": "code",
      "source": [
        "output_fixed.printSchema()"
      ],
      "metadata": {
        "colab": {
          "base_uri": "https://localhost:8080/"
        },
        "id": "tdpiOdFb96bX",
        "outputId": "be9f6fc6-0287-4a75-8952-b6d61d435901"
      },
      "execution_count": 17,
      "outputs": [
        {
          "output_type": "stream",
          "name": "stdout",
          "text": [
            "root\n",
            " |-- School: string (nullable = true)\n",
            " |-- Private: string (nullable = true)\n",
            " |-- Apps: integer (nullable = true)\n",
            " |-- Accept: integer (nullable = true)\n",
            " |-- Enroll: integer (nullable = true)\n",
            " |-- Top10perc: integer (nullable = true)\n",
            " |-- Top25perc: integer (nullable = true)\n",
            " |-- F_Undergrad: integer (nullable = true)\n",
            " |-- P_Undergrad: integer (nullable = true)\n",
            " |-- Outstate: integer (nullable = true)\n",
            " |-- Room_Board: integer (nullable = true)\n",
            " |-- Books: integer (nullable = true)\n",
            " |-- Personal: integer (nullable = true)\n",
            " |-- PhD: integer (nullable = true)\n",
            " |-- Terminal: integer (nullable = true)\n",
            " |-- S_F_Ratio: double (nullable = true)\n",
            " |-- perc_alumni: integer (nullable = true)\n",
            " |-- Expend: integer (nullable = true)\n",
            " |-- Grad_Rate: integer (nullable = true)\n",
            " |-- features: vector (nullable = true)\n",
            " |-- PrivateIndex: double (nullable = false)\n",
            "\n"
          ]
        }
      ]
    },
    {
      "cell_type": "code",
      "source": [
        "my_final_data = output_fixed.select(['features','PrivateIndex'])"
      ],
      "metadata": {
        "id": "m3YIBmbo-EIn"
      },
      "execution_count": 19,
      "outputs": []
    },
    {
      "cell_type": "code",
      "source": [
        "train_data,test_data = my_final_data.randomSplit([0.7,0.3])"
      ],
      "metadata": {
        "id": "nPCURO0f-aJe"
      },
      "execution_count": 20,
      "outputs": []
    },
    {
      "cell_type": "code",
      "source": [
        "from pyspark.ml.classification import (DecisionTreeClassifier,GBTClassifier,\n",
        "                                       RandomForestClassifier)"
      ],
      "metadata": {
        "id": "7JuAgvck-W0N"
      },
      "execution_count": 21,
      "outputs": []
    },
    {
      "cell_type": "code",
      "source": [
        "from pyspark.ml import Pipeline"
      ],
      "metadata": {
        "id": "neopuK_G-4bG"
      },
      "execution_count": 22,
      "outputs": []
    },
    {
      "cell_type": "code",
      "source": [
        "dtc = DecisionTreeClassifier(labelCol='PrivateIndex',featuresCol='features')\n",
        "rfc = RandomForestClassifier(numTrees = 150, labelCol='PrivateIndex',featuresCol='features')\n",
        "gbt = GBTClassifier(labelCol='PrivateIndex',featuresCol='features')"
      ],
      "metadata": {
        "id": "_oSi4hDl_Ou-"
      },
      "execution_count": 36,
      "outputs": []
    },
    {
      "cell_type": "code",
      "source": [
        "dtc_model = dtc.fit(train_data)\n",
        "rfc_model = rfc.fit(train_data)\n",
        "gbt_model = gbt.fit(train_data) "
      ],
      "metadata": {
        "id": "5TLMgZnP_nRw"
      },
      "execution_count": 37,
      "outputs": []
    },
    {
      "cell_type": "code",
      "source": [
        "dtc_preds = dtc_model.transform(test_data)\n",
        "rfc_preds = rfc_model.transform(test_data)\n",
        "gbt_preds = gbt_model.transform(test_data)"
      ],
      "metadata": {
        "id": "teFS4ua9_50I"
      },
      "execution_count": 38,
      "outputs": []
    },
    {
      "cell_type": "code",
      "source": [
        "from pyspark.ml.evaluation import BinaryClassificationEvaluator,MulticlassClassificationEvaluator"
      ],
      "metadata": {
        "id": "_6rono8gAE-h"
      },
      "execution_count": 45,
      "outputs": []
    },
    {
      "cell_type": "code",
      "source": [
        "my_eval = BinaryClassificationEvaluator(labelCol='PrivateIndex')"
      ],
      "metadata": {
        "id": "s1HIyiQAAK82"
      },
      "execution_count": 40,
      "outputs": []
    },
    {
      "cell_type": "code",
      "source": [
        "print('DTC')\n",
        "my_eval.evaluate(dtc_preds)"
      ],
      "metadata": {
        "colab": {
          "base_uri": "https://localhost:8080/"
        },
        "id": "slWVVvG8AXHP",
        "outputId": "422c6f31-a2da-42dc-fd57-327c7627d8d0"
      },
      "execution_count": 41,
      "outputs": [
        {
          "output_type": "stream",
          "name": "stdout",
          "text": [
            "DTC\n"
          ]
        },
        {
          "output_type": "execute_result",
          "data": {
            "text/plain": [
              "0.874927234927235"
            ]
          },
          "metadata": {},
          "execution_count": 41
        }
      ]
    },
    {
      "cell_type": "code",
      "source": [
        "print('RFC')\n",
        "my_eval.evaluate(rfc_preds)"
      ],
      "metadata": {
        "colab": {
          "base_uri": "https://localhost:8080/"
        },
        "id": "4ImSEMShAjMn",
        "outputId": "6d920408-f1ec-43cc-d855-ac7396aa40cf"
      },
      "execution_count": 42,
      "outputs": [
        {
          "output_type": "stream",
          "name": "stdout",
          "text": [
            "RFC\n"
          ]
        },
        {
          "output_type": "execute_result",
          "data": {
            "text/plain": [
              "0.9806237006237006"
            ]
          },
          "metadata": {},
          "execution_count": 42
        }
      ]
    },
    {
      "cell_type": "code",
      "source": [
        "print('GBT')\n",
        "my_eval.evaluate(gbt_preds)"
      ],
      "metadata": {
        "colab": {
          "base_uri": "https://localhost:8080/"
        },
        "id": "QQrBBln2Ao6F",
        "outputId": "8efbfd93-69b8-46f9-fc59-259c49c5a3af"
      },
      "execution_count": 43,
      "outputs": [
        {
          "output_type": "stream",
          "name": "stdout",
          "text": [
            "GBT\n"
          ]
        },
        {
          "output_type": "execute_result",
          "data": {
            "text/plain": [
              "0.9412889812889811"
            ]
          },
          "metadata": {},
          "execution_count": 43
        }
      ]
    },
    {
      "cell_type": "code",
      "source": [
        "gbt_preds.printSchema()"
      ],
      "metadata": {
        "colab": {
          "base_uri": "https://localhost:8080/"
        },
        "id": "i3Pg2yowA06W",
        "outputId": "b8e4ed52-37ec-44eb-98b0-111f919ff2a2"
      },
      "execution_count": 44,
      "outputs": [
        {
          "output_type": "stream",
          "name": "stdout",
          "text": [
            "root\n",
            " |-- features: vector (nullable = true)\n",
            " |-- PrivateIndex: double (nullable = false)\n",
            " |-- rawPrediction: vector (nullable = true)\n",
            " |-- probability: vector (nullable = true)\n",
            " |-- prediction: double (nullable = false)\n",
            "\n"
          ]
        }
      ]
    },
    {
      "cell_type": "code",
      "source": [
        "acc_eval = MulticlassClassificationEvaluator(labelCol='PrivateIndex',metricName='accuracy')"
      ],
      "metadata": {
        "id": "BejCW9_6CIne"
      },
      "execution_count": 46,
      "outputs": []
    },
    {
      "cell_type": "code",
      "source": [
        "rfc_acc = acc_eval.evaluate(rfc_preds)\n",
        "rfc_acc"
      ],
      "metadata": {
        "colab": {
          "base_uri": "https://localhost:8080/"
        },
        "id": "X8XtrmgfCZKH",
        "outputId": "89012c9b-6a02-42c7-f95a-c849b729c612"
      },
      "execution_count": 48,
      "outputs": [
        {
          "output_type": "execute_result",
          "data": {
            "text/plain": [
              "0.94"
            ]
          },
          "metadata": {},
          "execution_count": 48
        }
      ]
    }
  ]
}