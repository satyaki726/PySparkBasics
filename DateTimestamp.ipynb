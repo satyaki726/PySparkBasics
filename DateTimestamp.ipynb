{
  "nbformat": 4,
  "nbformat_minor": 0,
  "metadata": {
    "colab": {
      "provenance": [],
      "authorship_tag": "ABX9TyONm4im44Way/zrnt5LKcZM"
    },
    "kernelspec": {
      "name": "python3",
      "display_name": "Python 3"
    },
    "language_info": {
      "name": "python"
    }
  },
  "cells": [
    {
      "cell_type": "markdown",
      "source": [
        "Spark Dataframe \n",
        "Date And Timestamp"
      ],
      "metadata": {
        "id": "mXpTHmtB62yp"
      }
    },
    {
      "cell_type": "code",
      "execution_count": null,
      "metadata": {
        "colab": {
          "base_uri": "https://localhost:8080/"
        },
        "id": "4In_YS3Y6uV-",
        "outputId": "446fa7a2-4488-43a6-8772-f3b98ad133c0"
      },
      "outputs": [
        {
          "output_type": "stream",
          "name": "stdout",
          "text": [
            "Looking in indexes: https://pypi.org/simple, https://us-python.pkg.dev/colab-wheels/public/simple/\n",
            "Collecting pyspark\n",
            "  Downloading pyspark-3.4.0.tar.gz (310.8 MB)\n",
            "\u001b[2K     \u001b[90m━━━━━━━━━━━━━━━━━━━━━━━━━━━━━━━━━━━━━━━\u001b[0m \u001b[32m310.8/310.8 MB\u001b[0m \u001b[31m3.9 MB/s\u001b[0m eta \u001b[36m0:00:00\u001b[0m\n",
            "\u001b[?25h  Preparing metadata (setup.py) ... \u001b[?25l\u001b[?25hdone\n",
            "Requirement already satisfied: py4j in /usr/local/lib/python3.10/dist-packages (0.10.9.7)\n",
            "Building wheels for collected packages: pyspark\n",
            "  Building wheel for pyspark (setup.py) ... \u001b[?25l\u001b[?25hdone\n",
            "  Created wheel for pyspark: filename=pyspark-3.4.0-py2.py3-none-any.whl size=311317145 sha256=02d6601388f55f2e887d7b019cc07f17ae8c56a9dea1485161fc1c26b69ec80e\n",
            "  Stored in directory: /root/.cache/pip/wheels/7b/1b/4b/3363a1d04368e7ff0d408e57ff57966fcdf00583774e761327\n",
            "Successfully built pyspark\n",
            "Installing collected packages: pyspark\n",
            "Successfully installed pyspark-3.4.0\n"
          ]
        }
      ],
      "source": [
        "!pip install pyspark py4j"
      ]
    },
    {
      "cell_type": "code",
      "source": [
        "from pyspark.sql import SparkSession"
      ],
      "metadata": {
        "id": "Hd277Vlb7Gzu"
      },
      "execution_count": null,
      "outputs": []
    },
    {
      "cell_type": "code",
      "source": [
        "spark = SparkSession.builder.appName('dates').getOrCreate()"
      ],
      "metadata": {
        "id": "Db91bet17Ned"
      },
      "execution_count": null,
      "outputs": []
    },
    {
      "cell_type": "code",
      "source": [
        "df = spark.read.csv('appl_stock.csv',header=True,inferSchema=True)"
      ],
      "metadata": {
        "id": "-LJYFnJ375-Y"
      },
      "execution_count": null,
      "outputs": []
    },
    {
      "cell_type": "code",
      "source": [
        "df.select(['Date','Open']).show() "
      ],
      "metadata": {
        "colab": {
          "base_uri": "https://localhost:8080/"
        },
        "id": "zQmpnnDa7sM4",
        "outputId": "715ad325-43e4-4396-f42e-47236beb84f6"
      },
      "execution_count": null,
      "outputs": [
        {
          "output_type": "stream",
          "name": "stdout",
          "text": [
            "+----------+------------------+\n",
            "|      Date|              Open|\n",
            "+----------+------------------+\n",
            "|2010-01-04|        213.429998|\n",
            "|2010-01-05|        214.599998|\n",
            "|2010-01-06|        214.379993|\n",
            "|2010-01-07|            211.75|\n",
            "|2010-01-08|        210.299994|\n",
            "|2010-01-11|212.79999700000002|\n",
            "|2010-01-12|209.18999499999998|\n",
            "|2010-01-13|        207.870005|\n",
            "|2010-01-14|210.11000299999998|\n",
            "|2010-01-15|210.92999500000002|\n",
            "|2010-01-19|        208.330002|\n",
            "|2010-01-20|        214.910006|\n",
            "|2010-01-21|        212.079994|\n",
            "|2010-01-22|206.78000600000001|\n",
            "|2010-01-25|202.51000200000001|\n",
            "|2010-01-26|205.95000100000001|\n",
            "|2010-01-27|        206.849995|\n",
            "|2010-01-28|        204.930004|\n",
            "|2010-01-29|        201.079996|\n",
            "|2010-02-01|192.36999699999998|\n",
            "+----------+------------------+\n",
            "only showing top 20 rows\n",
            "\n"
          ]
        }
      ]
    },
    {
      "cell_type": "code",
      "source": [
        "df.printSchema()"
      ],
      "metadata": {
        "colab": {
          "base_uri": "https://localhost:8080/"
        },
        "id": "Gtk_BvkD8ZcP",
        "outputId": "e4eaef63-0976-413a-95a7-fd9762ad59b9"
      },
      "execution_count": null,
      "outputs": [
        {
          "output_type": "stream",
          "name": "stdout",
          "text": [
            "root\n",
            " |-- Date: date (nullable = true)\n",
            " |-- Open: double (nullable = true)\n",
            " |-- High: double (nullable = true)\n",
            " |-- Low: double (nullable = true)\n",
            " |-- Close: double (nullable = true)\n",
            " |-- Volume: integer (nullable = true)\n",
            " |-- Adj Close: double (nullable = true)\n",
            "\n"
          ]
        }
      ]
    },
    {
      "cell_type": "code",
      "source": [
        "from pyspark.sql.functions import (\n",
        "    dayofmonth,hour,dayofyear,month,year,\n",
        "    weekofyear,format_number,date_format\n",
        ")"
      ],
      "metadata": {
        "id": "5ZxaLZnO8geZ"
      },
      "execution_count": null,
      "outputs": []
    },
    {
      "cell_type": "code",
      "source": [
        "df.select(dayofmonth(df['Date'])).show()"
      ],
      "metadata": {
        "colab": {
          "base_uri": "https://localhost:8080/"
        },
        "id": "nsvhj1ie9AOZ",
        "outputId": "e4bd806a-ce95-4b7c-a6ea-3abd6687fef4"
      },
      "execution_count": null,
      "outputs": [
        {
          "output_type": "stream",
          "name": "stdout",
          "text": [
            "+----------------+\n",
            "|dayofmonth(Date)|\n",
            "+----------------+\n",
            "|               4|\n",
            "|               5|\n",
            "|               6|\n",
            "|               7|\n",
            "|               8|\n",
            "|              11|\n",
            "|              12|\n",
            "|              13|\n",
            "|              14|\n",
            "|              15|\n",
            "|              19|\n",
            "|              20|\n",
            "|              21|\n",
            "|              22|\n",
            "|              25|\n",
            "|              26|\n",
            "|              27|\n",
            "|              28|\n",
            "|              29|\n",
            "|               1|\n",
            "+----------------+\n",
            "only showing top 20 rows\n",
            "\n"
          ]
        }
      ]
    },
    {
      "cell_type": "code",
      "source": [
        "df.select(hour(df['Date'])).show()"
      ],
      "metadata": {
        "colab": {
          "base_uri": "https://localhost:8080/"
        },
        "id": "YLIAU9oW9gsX",
        "outputId": "38b4c590-3a73-4466-8bdb-ac053c1a1aae"
      },
      "execution_count": null,
      "outputs": [
        {
          "output_type": "stream",
          "name": "stdout",
          "text": [
            "+----------+\n",
            "|hour(Date)|\n",
            "+----------+\n",
            "|         0|\n",
            "|         0|\n",
            "|         0|\n",
            "|         0|\n",
            "|         0|\n",
            "|         0|\n",
            "|         0|\n",
            "|         0|\n",
            "|         0|\n",
            "|         0|\n",
            "|         0|\n",
            "|         0|\n",
            "|         0|\n",
            "|         0|\n",
            "|         0|\n",
            "|         0|\n",
            "|         0|\n",
            "|         0|\n",
            "|         0|\n",
            "|         0|\n",
            "+----------+\n",
            "only showing top 20 rows\n",
            "\n"
          ]
        }
      ]
    },
    {
      "cell_type": "code",
      "source": [
        "df.select(month(df['Date'])).show()"
      ],
      "metadata": {
        "colab": {
          "base_uri": "https://localhost:8080/"
        },
        "id": "s6xWFYts9jWs",
        "outputId": "38e56305-43fe-42e3-941e-63c85d838ab3"
      },
      "execution_count": null,
      "outputs": [
        {
          "output_type": "stream",
          "name": "stdout",
          "text": [
            "+-----------+\n",
            "|month(Date)|\n",
            "+-----------+\n",
            "|          1|\n",
            "|          1|\n",
            "|          1|\n",
            "|          1|\n",
            "|          1|\n",
            "|          1|\n",
            "|          1|\n",
            "|          1|\n",
            "|          1|\n",
            "|          1|\n",
            "|          1|\n",
            "|          1|\n",
            "|          1|\n",
            "|          1|\n",
            "|          1|\n",
            "|          1|\n",
            "|          1|\n",
            "|          1|\n",
            "|          1|\n",
            "|          2|\n",
            "+-----------+\n",
            "only showing top 20 rows\n",
            "\n"
          ]
        }
      ]
    },
    {
      "cell_type": "code",
      "source": [
        "df.select(year(df['Date'])).show()"
      ],
      "metadata": {
        "colab": {
          "base_uri": "https://localhost:8080/"
        },
        "id": "X8ljZn2v9qUF",
        "outputId": "a423ae74-53cb-4005-fc58-df62c8400182"
      },
      "execution_count": null,
      "outputs": [
        {
          "output_type": "stream",
          "name": "stdout",
          "text": [
            "+----------+\n",
            "|year(Date)|\n",
            "+----------+\n",
            "|      2010|\n",
            "|      2010|\n",
            "|      2010|\n",
            "|      2010|\n",
            "|      2010|\n",
            "|      2010|\n",
            "|      2010|\n",
            "|      2010|\n",
            "|      2010|\n",
            "|      2010|\n",
            "|      2010|\n",
            "|      2010|\n",
            "|      2010|\n",
            "|      2010|\n",
            "|      2010|\n",
            "|      2010|\n",
            "|      2010|\n",
            "|      2010|\n",
            "|      2010|\n",
            "|      2010|\n",
            "+----------+\n",
            "only showing top 20 rows\n",
            "\n"
          ]
        }
      ]
    },
    {
      "cell_type": "code",
      "source": [
        "new_df = df.withColumn(\"Year\",year(df['Date']))"
      ],
      "metadata": {
        "id": "IdKqetam9w4Q"
      },
      "execution_count": null,
      "outputs": []
    },
    {
      "cell_type": "code",
      "source": [
        "new_df.show()"
      ],
      "metadata": {
        "colab": {
          "base_uri": "https://localhost:8080/"
        },
        "id": "iWGXXbWw-lLy",
        "outputId": "d7077dd0-fa96-4fb9-e936-c8ef10f5ce1d"
      },
      "execution_count": null,
      "outputs": [
        {
          "output_type": "stream",
          "name": "stdout",
          "text": [
            "+----------+------------------+------------------+------------------+------------------+---------+------------------+----+\n",
            "|      Date|              Open|              High|               Low|             Close|   Volume|         Adj Close|Year|\n",
            "+----------+------------------+------------------+------------------+------------------+---------+------------------+----+\n",
            "|2010-01-04|        213.429998|        214.499996|212.38000099999996|        214.009998|123432400|         27.727039|2010|\n",
            "|2010-01-05|        214.599998|        215.589994|        213.249994|        214.379993|150476200|27.774976000000002|2010|\n",
            "|2010-01-06|        214.379993|            215.23|        210.750004|        210.969995|138040000|27.333178000000004|2010|\n",
            "|2010-01-07|            211.75|        212.000006|        209.050005|            210.58|119282800|          27.28265|2010|\n",
            "|2010-01-08|        210.299994|        212.000006|209.06000500000002|211.98000499999998|111902700|         27.464034|2010|\n",
            "|2010-01-11|212.79999700000002|        213.000002|        208.450005|210.11000299999998|115557400|         27.221758|2010|\n",
            "|2010-01-12|209.18999499999998|209.76999500000002|        206.419998|        207.720001|148614900|          26.91211|2010|\n",
            "|2010-01-13|        207.870005|210.92999500000002|        204.099998|        210.650002|151473000|          27.29172|2010|\n",
            "|2010-01-14|210.11000299999998|210.45999700000002|        209.020004|            209.43|108223500|         27.133657|2010|\n",
            "|2010-01-15|210.92999500000002|211.59999700000003|        205.869999|            205.93|148516900|26.680197999999997|2010|\n",
            "|2010-01-19|        208.330002|215.18999900000003|        207.240004|        215.039995|182501900|27.860484999999997|2010|\n",
            "|2010-01-20|        214.910006|        215.549994|        209.500002|            211.73|153038200|         27.431644|2010|\n",
            "|2010-01-21|        212.079994|213.30999599999998|        207.210003|        208.069996|152038600|         26.957455|2010|\n",
            "|2010-01-22|206.78000600000001|        207.499996|            197.16|            197.75|220441900|         25.620401|2010|\n",
            "|2010-01-25|202.51000200000001|        204.699999|        200.190002|        203.070002|266424900|26.309658000000002|2010|\n",
            "|2010-01-26|205.95000100000001|        213.710005|        202.580004|        205.940001|466777500|         26.681494|2010|\n",
            "|2010-01-27|        206.849995|            210.58|        199.530001|        207.880005|430642100|26.932840000000002|2010|\n",
            "|2010-01-28|        204.930004|        205.500004|        198.699995|        199.289995|293375600|25.819922000000002|2010|\n",
            "|2010-01-29|        201.079996|        202.199995|        190.250002|        192.060003|311488100|         24.883208|2010|\n",
            "|2010-02-01|192.36999699999998|             196.0|191.29999899999999|        194.729998|187469100|         25.229131|2010|\n",
            "+----------+------------------+------------------+------------------+------------------+---------+------------------+----+\n",
            "only showing top 20 rows\n",
            "\n"
          ]
        }
      ]
    },
    {
      "cell_type": "code",
      "source": [
        "new_df.groupBy(\"Year\").mean().show()"
      ],
      "metadata": {
        "colab": {
          "base_uri": "https://localhost:8080/"
        },
        "id": "MPZgkpUu-uNu",
        "outputId": "b7f36050-1958-4bb0-e98e-ceb3bd1e1a61"
      },
      "execution_count": null,
      "outputs": [
        {
          "output_type": "stream",
          "name": "stdout",
          "text": [
            "+----+------------------+------------------+------------------+------------------+--------------------+------------------+---------+\n",
            "|Year|         avg(Open)|         avg(High)|          avg(Low)|        avg(Close)|         avg(Volume)|    avg(Adj Close)|avg(Year)|\n",
            "+----+------------------+------------------+------------------+------------------+--------------------+------------------+---------+\n",
            "|2015|120.17575393253965|121.24452385714291| 118.8630954325397|120.03999980555547|  5.18378869047619E7|115.96740080555561|   2015.0|\n",
            "|2013| 473.1281355634922| 477.6389272301587|468.24710264682557| 472.6348802857143|          1.016087E8| 62.61798788492063|   2013.0|\n",
            "|2014| 295.1426195357143|297.56103184523823| 292.9949599801587| 295.4023416507935| 6.315273055555555E7| 87.63583323809523|   2014.0|\n",
            "|2012|     576.652720788| 581.8254008040001| 569.9211606079999| 576.0497195640002|       1.319642044E8| 74.81383696800002|   2012.0|\n",
            "|2016|104.50777772619044| 105.4271825436508|103.69027771825397|104.60400786904763|  3.84153623015873E7|103.15032854761901|   2016.0|\n",
            "|2010| 259.9576190992064|262.36880881349214|256.84761791269847| 259.8424600000002|1.4982631666666666E8|33.665072424603196|   2010.0|\n",
            "|2011|364.06142773412705| 367.4235704880951|360.29769878174613|364.00432532142867|1.2307474166666667E8| 47.16023692063492|   2011.0|\n",
            "+----+------------------+------------------+------------------+------------------+--------------------+------------------+---------+\n",
            "\n"
          ]
        }
      ]
    },
    {
      "cell_type": "code",
      "source": [
        "result = new_df.groupBy(\"Year\").mean().select([\"Year\",\"avg(Close)\"])\n",
        "result.show()"
      ],
      "metadata": {
        "colab": {
          "base_uri": "https://localhost:8080/"
        },
        "id": "42v4g1Rx_YDc",
        "outputId": "1726a878-bf40-4a6e-8c90-13f6cd00584d"
      },
      "execution_count": null,
      "outputs": [
        {
          "output_type": "stream",
          "name": "stdout",
          "text": [
            "+----+------------------+\n",
            "|Year|        avg(Close)|\n",
            "+----+------------------+\n",
            "|2015|120.03999980555547|\n",
            "|2013| 472.6348802857143|\n",
            "|2014| 295.4023416507935|\n",
            "|2012| 576.0497195640002|\n",
            "|2016|104.60400786904763|\n",
            "|2010| 259.8424600000002|\n",
            "|2011|364.00432532142867|\n",
            "+----+------------------+\n",
            "\n"
          ]
        }
      ]
    },
    {
      "cell_type": "code",
      "source": [
        "new = result.withColumnRenamed(\"avg(Close)\",\"Average Closing Price\")\n",
        "new.select(['Year',format_number('Average Closing Price',2).alias(\"Avg Close\")]).show()"
      ],
      "metadata": {
        "colab": {
          "base_uri": "https://localhost:8080/"
        },
        "id": "cjQb2yIX_vXZ",
        "outputId": "e2c17384-3869-4a54-b843-07352dbc7e21"
      },
      "execution_count": null,
      "outputs": [
        {
          "output_type": "stream",
          "name": "stdout",
          "text": [
            "+----+---------+\n",
            "|Year|Avg Close|\n",
            "+----+---------+\n",
            "|2015|   120.04|\n",
            "|2013|   472.63|\n",
            "|2014|   295.40|\n",
            "|2012|   576.05|\n",
            "|2016|   104.60|\n",
            "|2010|   259.84|\n",
            "|2011|   364.00|\n",
            "+----+---------+\n",
            "\n"
          ]
        }
      ]
    }
  ]
}