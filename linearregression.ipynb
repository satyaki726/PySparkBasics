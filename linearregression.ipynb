{
  "nbformat": 4,
  "nbformat_minor": 0,
  "metadata": {
    "colab": {
      "provenance": [],
      "authorship_tag": "ABX9TyN8b5jzJ5+Ol0DBHtFiqRWU"
    },
    "kernelspec": {
      "name": "python3",
      "display_name": "Python 3"
    },
    "language_info": {
      "name": "python"
    }
  },
  "cells": [
    {
      "cell_type": "code",
      "execution_count": null,
      "metadata": {
        "colab": {
          "base_uri": "https://localhost:8080/"
        },
        "id": "YBqZYqgfcsaj",
        "outputId": "be20f8d6-8a5b-44fd-960e-88882a2e12c0"
      },
      "outputs": [
        {
          "output_type": "stream",
          "name": "stdout",
          "text": [
            "Looking in indexes: https://pypi.org/simple, https://us-python.pkg.dev/colab-wheels/public/simple/\n",
            "Collecting pyspark\n",
            "  Downloading pyspark-3.4.0.tar.gz (310.8 MB)\n",
            "\u001b[2K     \u001b[90m━━━━━━━━━━━━━━━━━━━━━━━━━━━━━━━━━━━━━━━\u001b[0m \u001b[32m310.8/310.8 MB\u001b[0m \u001b[31m4.2 MB/s\u001b[0m eta \u001b[36m0:00:00\u001b[0m\n",
            "\u001b[?25h  Preparing metadata (setup.py) ... \u001b[?25l\u001b[?25hdone\n",
            "Requirement already satisfied: py4j in /usr/local/lib/python3.10/dist-packages (0.10.9.7)\n",
            "Building wheels for collected packages: pyspark\n",
            "  Building wheel for pyspark (setup.py) ... \u001b[?25l\u001b[?25hdone\n",
            "  Created wheel for pyspark: filename=pyspark-3.4.0-py2.py3-none-any.whl size=311317130 sha256=0d924ace548b1d8169613563e6ed14318eff6884b01e976552015c055bfc5135\n",
            "  Stored in directory: /root/.cache/pip/wheels/7b/1b/4b/3363a1d04368e7ff0d408e57ff57966fcdf00583774e761327\n",
            "Successfully built pyspark\n",
            "Installing collected packages: pyspark\n"
          ]
        }
      ],
      "source": [
        "!pip install pyspark py4j"
      ]
    },
    {
      "cell_type": "code",
      "source": [
        "from pyspark.sql import SparkSession"
      ],
      "metadata": {
        "id": "AIjxc9c8dwxk"
      },
      "execution_count": 2,
      "outputs": []
    },
    {
      "cell_type": "code",
      "source": [
        "spark = SparkSession.builder.appName('lrex').getOrCreate()"
      ],
      "metadata": {
        "id": "D-JolB98d61X"
      },
      "execution_count": 3,
      "outputs": []
    },
    {
      "cell_type": "code",
      "source": [
        "from pyspark.ml.regression import LinearRegression"
      ],
      "metadata": {
        "id": "1ZlHQTpMeESp"
      },
      "execution_count": 4,
      "outputs": []
    },
    {
      "cell_type": "code",
      "source": [
        "training = spark.read.format('libsvm').load('sample_linear_regression_data.txt')"
      ],
      "metadata": {
        "id": "BVf7Bj_MeLsk"
      },
      "execution_count": 5,
      "outputs": []
    },
    {
      "cell_type": "code",
      "source": [
        "training.show()"
      ],
      "metadata": {
        "id": "B9C5ZH48edN-",
        "outputId": "2fac4783-14a7-49db-8276-884e9a9f9f4b",
        "colab": {
          "base_uri": "https://localhost:8080/"
        }
      },
      "execution_count": 6,
      "outputs": [
        {
          "output_type": "stream",
          "name": "stdout",
          "text": [
            "+-------------------+--------------------+\n",
            "|              label|            features|\n",
            "+-------------------+--------------------+\n",
            "| -9.490009878824548|(10,[0,1,2,3,4,5,...|\n",
            "| 0.2577820163584905|(10,[0,1,2,3,4,5,...|\n",
            "| -4.438869807456516|(10,[0,1,2,3,4,5,...|\n",
            "|-19.782762789614537|(10,[0,1,2,3,4,5,...|\n",
            "| -7.966593841555266|(10,[0,1,2,3,4,5,...|\n",
            "| -7.896274316726144|(10,[0,1,2,3,4,5,...|\n",
            "| -8.464803554195287|(10,[0,1,2,3,4,5,...|\n",
            "| 2.1214592666251364|(10,[0,1,2,3,4,5,...|\n",
            "| 1.0720117616524107|(10,[0,1,2,3,4,5,...|\n",
            "|-13.772441561702871|(10,[0,1,2,3,4,5,...|\n",
            "| -5.082010756207233|(10,[0,1,2,3,4,5,...|\n",
            "|  7.887786536531237|(10,[0,1,2,3,4,5,...|\n",
            "| 14.323146365332388|(10,[0,1,2,3,4,5,...|\n",
            "|-20.057482615789212|(10,[0,1,2,3,4,5,...|\n",
            "|-0.8995693247765151|(10,[0,1,2,3,4,5,...|\n",
            "| -19.16829262296376|(10,[0,1,2,3,4,5,...|\n",
            "|  5.601801561245534|(10,[0,1,2,3,4,5,...|\n",
            "|-3.2256352187273354|(10,[0,1,2,3,4,5,...|\n",
            "| 1.5299675726687754|(10,[0,1,2,3,4,5,...|\n",
            "| -0.250102447941961|(10,[0,1,2,3,4,5,...|\n",
            "+-------------------+--------------------+\n",
            "only showing top 20 rows\n",
            "\n"
          ]
        }
      ]
    },
    {
      "cell_type": "code",
      "source": [
        "lr = LinearRegression(featuresCol='features',labelCol='label',\n",
        "                      predictionCol='prediction')"
      ],
      "metadata": {
        "id": "dw604G8Getps"
      },
      "execution_count": 7,
      "outputs": []
    },
    {
      "cell_type": "code",
      "source": [
        "lrModel = lr.fit(training)"
      ],
      "metadata": {
        "id": "-nT4uyRCe_It"
      },
      "execution_count": 8,
      "outputs": []
    },
    {
      "cell_type": "code",
      "source": [
        "lrModel.coefficients #feature importance related with label"
      ],
      "metadata": {
        "id": "dA1_Qa-rfF2V",
        "outputId": "4badcaeb-49e4-4838-e18c-b5045a0dc0bb",
        "colab": {
          "base_uri": "https://localhost:8080/"
        }
      },
      "execution_count": 9,
      "outputs": [
        {
          "output_type": "execute_result",
          "data": {
            "text/plain": [
              "DenseVector([0.0073, 0.8314, -0.8095, 2.4412, 0.5192, 1.1535, -0.2989, -0.5129, -0.6197, 0.6956])"
            ]
          },
          "metadata": {},
          "execution_count": 9
        }
      ]
    },
    {
      "cell_type": "code",
      "source": [
        "lrModel.intercept"
      ],
      "metadata": {
        "id": "HkaQA1bFfT4r",
        "outputId": "a1656aa4-563d-4d0d-9408-999f62bc2264",
        "colab": {
          "base_uri": "https://localhost:8080/"
        }
      },
      "execution_count": 10,
      "outputs": [
        {
          "output_type": "execute_result",
          "data": {
            "text/plain": [
              "0.14228558260358093"
            ]
          },
          "metadata": {},
          "execution_count": 10
        }
      ]
    },
    {
      "cell_type": "code",
      "source": [
        "training_summary = lrModel.summary"
      ],
      "metadata": {
        "id": "u4jOAxI4fg4-"
      },
      "execution_count": 12,
      "outputs": []
    },
    {
      "cell_type": "code",
      "source": [
        "training_summary.rootMeanSquaredError"
      ],
      "metadata": {
        "id": "B6OJnDIUfoJY",
        "outputId": "7c6bca55-aa85-463e-eb3e-3c324e2b10aa",
        "colab": {
          "base_uri": "https://localhost:8080/"
        }
      },
      "execution_count": 13,
      "outputs": [
        {
          "output_type": "execute_result",
          "data": {
            "text/plain": [
              "10.16309157133015"
            ]
          },
          "metadata": {},
          "execution_count": 13
        }
      ]
    },
    {
      "cell_type": "markdown",
      "source": [],
      "metadata": {
        "id": "tSL7ZtuEf4Kq"
      }
    },
    {
      "cell_type": "code",
      "source": [
        "all_data = spark.read.format('libsvm').load('sample_linear_regression_data.txt')"
      ],
      "metadata": {
        "id": "3eDictNmf4YN"
      },
      "execution_count": 23,
      "outputs": []
    },
    {
      "cell_type": "code",
      "source": [
        "all_data = all_data.randomSplit([0.7,0.3])"
      ],
      "metadata": {
        "id": "evGyQWiSgccu"
      },
      "execution_count": 17,
      "outputs": []
    },
    {
      "cell_type": "code",
      "source": [
        "all_data"
      ],
      "metadata": {
        "id": "oL2bsyxmggVV",
        "outputId": "9bb88c16-64dd-4a49-d2f2-9980a7240721",
        "colab": {
          "base_uri": "https://localhost:8080/"
        }
      },
      "execution_count": 18,
      "outputs": [
        {
          "output_type": "execute_result",
          "data": {
            "text/plain": [
              "[DataFrame[label: double, features: vector],\n",
              " DataFrame[label: double, features: vector]]"
            ]
          },
          "metadata": {},
          "execution_count": 18
        }
      ]
    },
    {
      "cell_type": "code",
      "source": [
        "train_data,test_data = all_data.randomSplit([0.7,0.3])"
      ],
      "metadata": {
        "id": "VchxosK_gEkg"
      },
      "execution_count": 26,
      "outputs": []
    },
    {
      "cell_type": "code",
      "source": [
        "train_data.describe().show()"
      ],
      "metadata": {
        "id": "zI5Te7F6gpzS",
        "outputId": "996cad13-c9aa-4ba1-e39e-e70bdb50931e",
        "colab": {
          "base_uri": "https://localhost:8080/"
        }
      },
      "execution_count": 28,
      "outputs": [
        {
          "output_type": "stream",
          "name": "stdout",
          "text": [
            "+-------+-------------------+\n",
            "|summary|              label|\n",
            "+-------+-------------------+\n",
            "|  count|                354|\n",
            "|   mean|0.49270669077575774|\n",
            "| stddev| 10.016896465630252|\n",
            "|    min|-28.046018037776633|\n",
            "|    max|  27.78383192005107|\n",
            "+-------+-------------------+\n",
            "\n"
          ]
        }
      ]
    },
    {
      "cell_type": "code",
      "source": [
        "test_data.describe().show()"
      ],
      "metadata": {
        "id": "A9j_U9vbhO9Q",
        "outputId": "698c7938-d13f-484d-d3f5-da38c6675cce",
        "colab": {
          "base_uri": "https://localhost:8080/"
        }
      },
      "execution_count": 29,
      "outputs": [
        {
          "output_type": "stream",
          "name": "stdout",
          "text": [
            "+-------+-------------------+\n",
            "|summary|              label|\n",
            "+-------+-------------------+\n",
            "|  count|                147|\n",
            "|   mean|-0.3109991062239958|\n",
            "| stddev| 11.023910075598282|\n",
            "|    min|-28.571478869743427|\n",
            "|    max| 27.111027963108548|\n",
            "+-------+-------------------+\n",
            "\n"
          ]
        }
      ]
    },
    {
      "cell_type": "code",
      "source": [
        "correct_model = lr.fit(train_data) #train the data"
      ],
      "metadata": {
        "id": "CKaDu8MuhXo_"
      },
      "execution_count": 30,
      "outputs": []
    },
    {
      "cell_type": "code",
      "source": [
        "test_results = correct_model.evaluate(test_data)"
      ],
      "metadata": {
        "id": "Q92iLlLYhhwZ"
      },
      "execution_count": 31,
      "outputs": []
    },
    {
      "cell_type": "code",
      "source": [
        "test_results.residuals.show()"
      ],
      "metadata": {
        "id": "PRhjB6nlho1T",
        "outputId": "9b8dcbdf-4f5e-4f6b-a379-6df5c6a8b963",
        "colab": {
          "base_uri": "https://localhost:8080/"
        }
      },
      "execution_count": 32,
      "outputs": [
        {
          "output_type": "stream",
          "name": "stdout",
          "text": [
            "+-------------------+\n",
            "|          residuals|\n",
            "+-------------------+\n",
            "|-28.978913309047446|\n",
            "|-28.010401934014144|\n",
            "| -24.99786443054734|\n",
            "| -21.12422752785841|\n",
            "|-15.712376838485469|\n",
            "|-17.205835962548633|\n",
            "|-17.217846171207498|\n",
            "|-15.509536919333755|\n",
            "|-16.445029588624163|\n",
            "|-15.241185843293097|\n",
            "|-17.567937619000244|\n",
            "|-13.549448134554911|\n",
            "|-15.658753166888113|\n",
            "| -16.17853579983377|\n",
            "|-12.712209205346744|\n",
            "| -18.16126893055735|\n",
            "|-13.908798751585659|\n",
            "|-13.374247963742329|\n",
            "|-14.163653803614498|\n",
            "| -13.82427270674053|\n",
            "+-------------------+\n",
            "only showing top 20 rows\n",
            "\n"
          ]
        }
      ]
    },
    {
      "cell_type": "code",
      "source": [
        "test_results.rootMeanSquaredError"
      ],
      "metadata": {
        "id": "pGR74iRrhxXN",
        "outputId": "e6359c5e-a0f8-460a-db7b-e00f1b4e480f",
        "colab": {
          "base_uri": "https://localhost:8080/"
        }
      },
      "execution_count": 33,
      "outputs": [
        {
          "output_type": "execute_result",
          "data": {
            "text/plain": [
              "10.939626319229795"
            ]
          },
          "metadata": {},
          "execution_count": 33
        }
      ]
    },
    {
      "cell_type": "code",
      "source": [
        "unlabeled_data = test_data.select(\"features\")"
      ],
      "metadata": {
        "id": "2rYWUUmuikTI"
      },
      "execution_count": 34,
      "outputs": []
    },
    {
      "cell_type": "code",
      "source": [
        "unlabeled_data.show()"
      ],
      "metadata": {
        "id": "gYK_PhB_ivmI",
        "outputId": "68efbfaa-57cd-4a69-8235-2aea37809e2b",
        "colab": {
          "base_uri": "https://localhost:8080/"
        }
      },
      "execution_count": 35,
      "outputs": [
        {
          "output_type": "stream",
          "name": "stdout",
          "text": [
            "+--------------------+\n",
            "|            features|\n",
            "+--------------------+\n",
            "|(10,[0,1,2,3,4,5,...|\n",
            "|(10,[0,1,2,3,4,5,...|\n",
            "|(10,[0,1,2,3,4,5,...|\n",
            "|(10,[0,1,2,3,4,5,...|\n",
            "|(10,[0,1,2,3,4,5,...|\n",
            "|(10,[0,1,2,3,4,5,...|\n",
            "|(10,[0,1,2,3,4,5,...|\n",
            "|(10,[0,1,2,3,4,5,...|\n",
            "|(10,[0,1,2,3,4,5,...|\n",
            "|(10,[0,1,2,3,4,5,...|\n",
            "|(10,[0,1,2,3,4,5,...|\n",
            "|(10,[0,1,2,3,4,5,...|\n",
            "|(10,[0,1,2,3,4,5,...|\n",
            "|(10,[0,1,2,3,4,5,...|\n",
            "|(10,[0,1,2,3,4,5,...|\n",
            "|(10,[0,1,2,3,4,5,...|\n",
            "|(10,[0,1,2,3,4,5,...|\n",
            "|(10,[0,1,2,3,4,5,...|\n",
            "|(10,[0,1,2,3,4,5,...|\n",
            "|(10,[0,1,2,3,4,5,...|\n",
            "+--------------------+\n",
            "only showing top 20 rows\n",
            "\n"
          ]
        }
      ]
    },
    {
      "cell_type": "code",
      "source": [
        "predictions = correct_model.transform(unlabeled_data)"
      ],
      "metadata": {
        "id": "-zIiqTrsi1mP"
      },
      "execution_count": 36,
      "outputs": []
    },
    {
      "cell_type": "code",
      "source": [
        "predictions.show() #predicted value for the given feature"
      ],
      "metadata": {
        "id": "2bVaJ6c8jBxx",
        "outputId": "939e508f-70c5-4d6a-96d8-52c52f49aa66",
        "colab": {
          "base_uri": "https://localhost:8080/"
        }
      },
      "execution_count": 37,
      "outputs": [
        {
          "output_type": "stream",
          "name": "stdout",
          "text": [
            "+--------------------+--------------------+\n",
            "|            features|          prediction|\n",
            "+--------------------+--------------------+\n",
            "|(10,[0,1,2,3,4,5,...|  0.4074344393040177|\n",
            "|(10,[0,1,2,3,4,5,...|   1.204918505531071|\n",
            "|(10,[0,1,2,3,4,5,...| -1.7383427520543833|\n",
            "|(10,[0,1,2,3,4,5,...|  1.2396667535849852|\n",
            "|(10,[0,1,2,3,4,5,...| -1.7818235183978743|\n",
            "|(10,[0,1,2,3,4,5,...| 0.14043633667261918|\n",
            "|(10,[0,1,2,3,4,5,...|  0.5256391498963926|\n",
            "|(10,[0,1,2,3,4,5,...| -0.5761221216877361|\n",
            "|(10,[0,1,2,3,4,5,...|  0.7129413163849174|\n",
            "|(10,[0,1,2,3,4,5,...|-0.19619895013811928|\n",
            "|(10,[0,1,2,3,4,5,...|  2.2083927391675675|\n",
            "|(10,[0,1,2,3,4,5,...| -1.7994230208243425|\n",
            "|(10,[0,1,2,3,4,5,...|  0.8366002571369244|\n",
            "|(10,[0,1,2,3,4,5,...|  1.8495572907583293|\n",
            "|(10,[0,1,2,3,4,5,...| -1.1548786898120245|\n",
            "|(10,[0,1,2,3,4,5,...|   4.388827368854478|\n",
            "|(10,[0,1,2,3,4,5,...|  0.4882039756949008|\n",
            "|(10,[0,1,2,3,4,5,...| 0.39639923835022617|\n",
            "|(10,[0,1,2,3,4,5,...|  1.6628800182594428|\n",
            "|(10,[0,1,2,3,4,5,...|   1.332830629194116|\n",
            "+--------------------+--------------------+\n",
            "only showing top 20 rows\n",
            "\n"
          ]
        }
      ]
    }
  ]
}