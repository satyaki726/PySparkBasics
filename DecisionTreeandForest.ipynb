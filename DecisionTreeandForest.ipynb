{
  "nbformat": 4,
  "nbformat_minor": 0,
  "metadata": {
    "colab": {
      "provenance": [],
      "authorship_tag": "ABX9TyNkLnABW/V5zs5CXgDTJlGr"
    },
    "kernelspec": {
      "name": "python3",
      "display_name": "Python 3"
    },
    "language_info": {
      "name": "python"
    }
  },
  "cells": [
    {
      "cell_type": "code",
      "execution_count": 1,
      "metadata": {
        "colab": {
          "base_uri": "https://localhost:8080/"
        },
        "id": "1SWW6QwMhqc1",
        "outputId": "fcf411cd-cb87-4208-a74c-eb8f7114a861"
      },
      "outputs": [
        {
          "output_type": "stream",
          "name": "stdout",
          "text": [
            "Looking in indexes: https://pypi.org/simple, https://us-python.pkg.dev/colab-wheels/public/simple/\n",
            "Collecting pyspark\n",
            "  Downloading pyspark-3.4.0.tar.gz (310.8 MB)\n",
            "\u001b[2K     \u001b[90m━━━━━━━━━━━━━━━━━━━━━━━━━━━━━━━━━━━━━━━\u001b[0m \u001b[32m310.8/310.8 MB\u001b[0m \u001b[31m4.8 MB/s\u001b[0m eta \u001b[36m0:00:00\u001b[0m\n",
            "\u001b[?25h  Preparing metadata (setup.py) ... \u001b[?25l\u001b[?25hdone\n",
            "Requirement already satisfied: py4j in /usr/local/lib/python3.10/dist-packages (0.10.9.7)\n",
            "Building wheels for collected packages: pyspark\n",
            "  Building wheel for pyspark (setup.py) ... \u001b[?25l\u001b[?25hdone\n",
            "  Created wheel for pyspark: filename=pyspark-3.4.0-py2.py3-none-any.whl size=311317130 sha256=2781e22f238523c7cc9efe3419bba24ed5fc0a8378af0a7db032ca2053d75e28\n",
            "  Stored in directory: /root/.cache/pip/wheels/7b/1b/4b/3363a1d04368e7ff0d408e57ff57966fcdf00583774e761327\n",
            "Successfully built pyspark\n",
            "Installing collected packages: pyspark\n",
            "Successfully installed pyspark-3.4.0\n"
          ]
        }
      ],
      "source": [
        "!pip install pyspark py4j"
      ]
    },
    {
      "cell_type": "code",
      "source": [
        "from pyspark.ml import Pipeline"
      ],
      "metadata": {
        "id": "YzbykpXo3sN2"
      },
      "execution_count": 2,
      "outputs": []
    },
    {
      "cell_type": "code",
      "source": [
        "from pyspark.ml.classification import (RandomForestClassifier, GBTClassifier,\n",
        "                                       DecisionTreeClassifier)"
      ],
      "metadata": {
        "id": "QkW7HyNy3x7w"
      },
      "execution_count": 3,
      "outputs": []
    },
    {
      "cell_type": "code",
      "source": [
        "from pyspark.sql import SparkSession\n",
        "spark = SparkSession.builder.appName('mytree').getOrCreate()"
      ],
      "metadata": {
        "id": "tWI3VpXl4G6t"
      },
      "execution_count": 4,
      "outputs": []
    },
    {
      "cell_type": "code",
      "source": [
        "data = spark.read.format('libsvm').load('sample_libsvm_data.txt')"
      ],
      "metadata": {
        "id": "oQuDk5Ia4YCd"
      },
      "execution_count": 6,
      "outputs": []
    },
    {
      "cell_type": "code",
      "source": [
        "data.show()"
      ],
      "metadata": {
        "colab": {
          "base_uri": "https://localhost:8080/"
        },
        "id": "Lt9UzM-M4ndV",
        "outputId": "91661913-796c-4ea6-a5e1-8172db77d746"
      },
      "execution_count": 7,
      "outputs": [
        {
          "output_type": "stream",
          "name": "stdout",
          "text": [
            "+-----+--------------------+\n",
            "|label|            features|\n",
            "+-----+--------------------+\n",
            "|  0.0|(692,[127,128,129...|\n",
            "|  1.0|(692,[158,159,160...|\n",
            "|  1.0|(692,[124,125,126...|\n",
            "|  1.0|(692,[152,153,154...|\n",
            "|  1.0|(692,[151,152,153...|\n",
            "|  0.0|(692,[129,130,131...|\n",
            "|  1.0|(692,[158,159,160...|\n",
            "|  1.0|(692,[99,100,101,...|\n",
            "|  0.0|(692,[154,155,156...|\n",
            "|  0.0|(692,[127,128,129...|\n",
            "|  1.0|(692,[154,155,156...|\n",
            "|  0.0|(692,[153,154,155...|\n",
            "|  0.0|(692,[151,152,153...|\n",
            "|  1.0|(692,[129,130,131...|\n",
            "|  0.0|(692,[154,155,156...|\n",
            "|  1.0|(692,[150,151,152...|\n",
            "|  0.0|(692,[124,125,126...|\n",
            "|  0.0|(692,[152,153,154...|\n",
            "|  1.0|(692,[97,98,99,12...|\n",
            "|  1.0|(692,[124,125,126...|\n",
            "+-----+--------------------+\n",
            "only showing top 20 rows\n",
            "\n"
          ]
        }
      ]
    },
    {
      "cell_type": "code",
      "source": [
        "train_data,test_data = data.randomSplit([0.7,0.3])"
      ],
      "metadata": {
        "id": "yAmIjPJ-4rwl"
      },
      "execution_count": 8,
      "outputs": []
    },
    {
      "cell_type": "code",
      "source": [
        "dtc = DecisionTreeClassifier()\n",
        "rfc = RandomForestClassifier(numTrees=100)\n",
        "gbt = GBTClassifier()"
      ],
      "metadata": {
        "id": "XjKE6AdK4x9V"
      },
      "execution_count": 10,
      "outputs": []
    },
    {
      "cell_type": "code",
      "source": [
        "dtc_model = dtc.fit(train_data)\n",
        "rfc_model = rfc.fit(train_data)\n",
        "gbt_model = gbt.fit(train_data)"
      ],
      "metadata": {
        "id": "P33znGZ35FP2"
      },
      "execution_count": 16,
      "outputs": []
    },
    {
      "cell_type": "code",
      "source": [
        "dtc_preds = dtc_model.transform(test_data)\n",
        "rfc_preds = rfc_model.transform(test_data)\n",
        "gbt_preds = gbt_model.transform(test_data)"
      ],
      "metadata": {
        "id": "DdHoHikU5aMN"
      },
      "execution_count": 17,
      "outputs": []
    },
    {
      "cell_type": "code",
      "source": [
        "dtc_preds.show()"
      ],
      "metadata": {
        "colab": {
          "base_uri": "https://localhost:8080/"
        },
        "id": "UeZ2ZkWl5qet",
        "outputId": "04a5ebfc-5020-4e30-a666-14e3514342c0"
      },
      "execution_count": 13,
      "outputs": [
        {
          "output_type": "stream",
          "name": "stdout",
          "text": [
            "+-----+--------------------+-------------+-----------+----------+\n",
            "|label|            features|rawPrediction|probability|prediction|\n",
            "+-----+--------------------+-------------+-----------+----------+\n",
            "|  0.0|(692,[100,101,102...|   [29.0,0.0]|  [1.0,0.0]|       0.0|\n",
            "|  0.0|(692,[123,124,125...|   [29.0,0.0]|  [1.0,0.0]|       0.0|\n",
            "|  0.0|(692,[124,125,126...|   [29.0,0.0]|  [1.0,0.0]|       0.0|\n",
            "|  0.0|(692,[124,125,126...|   [29.0,0.0]|  [1.0,0.0]|       0.0|\n",
            "|  0.0|(692,[124,125,126...|   [29.0,0.0]|  [1.0,0.0]|       0.0|\n",
            "|  0.0|(692,[126,127,128...|   [29.0,0.0]|  [1.0,0.0]|       0.0|\n",
            "|  0.0|(692,[126,127,128...|   [29.0,0.0]|  [1.0,0.0]|       0.0|\n",
            "|  0.0|(692,[126,127,128...|   [29.0,0.0]|  [1.0,0.0]|       0.0|\n",
            "|  0.0|(692,[126,127,128...|   [29.0,0.0]|  [1.0,0.0]|       0.0|\n",
            "|  0.0|(692,[153,154,155...|   [29.0,0.0]|  [1.0,0.0]|       0.0|\n",
            "|  0.0|(692,[153,154,155...|   [29.0,0.0]|  [1.0,0.0]|       0.0|\n",
            "|  0.0|(692,[154,155,156...|   [29.0,0.0]|  [1.0,0.0]|       0.0|\n",
            "|  0.0|(692,[154,155,156...|   [0.0,43.0]|  [0.0,1.0]|       1.0|\n",
            "|  0.0|(692,[154,155,156...|   [0.0,43.0]|  [0.0,1.0]|       1.0|\n",
            "|  1.0|(692,[99,100,101,...|   [0.0,43.0]|  [0.0,1.0]|       1.0|\n",
            "|  1.0|(692,[123,124,125...|   [0.0,43.0]|  [0.0,1.0]|       1.0|\n",
            "|  1.0|(692,[123,124,125...|   [0.0,43.0]|  [0.0,1.0]|       1.0|\n",
            "|  1.0|(692,[124,125,126...|   [0.0,43.0]|  [0.0,1.0]|       1.0|\n",
            "|  1.0|(692,[127,128,129...|   [0.0,43.0]|  [0.0,1.0]|       1.0|\n",
            "|  1.0|(692,[127,128,129...|   [0.0,43.0]|  [0.0,1.0]|       1.0|\n",
            "+-----+--------------------+-------------+-----------+----------+\n",
            "only showing top 20 rows\n",
            "\n"
          ]
        }
      ]
    },
    {
      "cell_type": "code",
      "source": [
        "rfc_preds.show()"
      ],
      "metadata": {
        "colab": {
          "base_uri": "https://localhost:8080/"
        },
        "id": "ZlF0kBpZ5u1e",
        "outputId": "30a6a463-00e5-4f52-c771-eb014aa126c8"
      },
      "execution_count": 14,
      "outputs": [
        {
          "output_type": "stream",
          "name": "stdout",
          "text": [
            "+-----+--------------------+-------------+-----------+----------+\n",
            "|label|            features|rawPrediction|probability|prediction|\n",
            "+-----+--------------------+-------------+-----------+----------+\n",
            "|  0.0|(692,[100,101,102...|  [58.0,42.0]|[0.58,0.42]|       0.0|\n",
            "|  0.0|(692,[123,124,125...|  [100.0,0.0]|  [1.0,0.0]|       0.0|\n",
            "|  0.0|(692,[124,125,126...|   [98.0,2.0]|[0.98,0.02]|       0.0|\n",
            "|  0.0|(692,[124,125,126...|  [82.0,18.0]|[0.82,0.18]|       0.0|\n",
            "|  0.0|(692,[124,125,126...|   [99.0,1.0]|[0.99,0.01]|       0.0|\n",
            "|  0.0|(692,[126,127,128...|   [91.0,9.0]|[0.91,0.09]|       0.0|\n",
            "|  0.0|(692,[126,127,128...|   [97.0,3.0]|[0.97,0.03]|       0.0|\n",
            "|  0.0|(692,[126,127,128...|   [97.0,3.0]|[0.97,0.03]|       0.0|\n",
            "|  0.0|(692,[126,127,128...|  [90.0,10.0]|  [0.9,0.1]|       0.0|\n",
            "|  0.0|(692,[153,154,155...|   [98.0,2.0]|[0.98,0.02]|       0.0|\n",
            "|  0.0|(692,[153,154,155...|  [83.0,17.0]|[0.83,0.17]|       0.0|\n",
            "|  0.0|(692,[154,155,156...|   [93.0,7.0]|[0.93,0.07]|       0.0|\n",
            "|  0.0|(692,[154,155,156...|  [69.0,31.0]|[0.69,0.31]|       0.0|\n",
            "|  0.0|(692,[154,155,156...|  [77.0,23.0]|[0.77,0.23]|       0.0|\n",
            "|  1.0|(692,[99,100,101,...|  [42.0,58.0]|[0.42,0.58]|       1.0|\n",
            "|  1.0|(692,[123,124,125...|  [0.0,100.0]|  [0.0,1.0]|       1.0|\n",
            "|  1.0|(692,[123,124,125...|  [0.0,100.0]|  [0.0,1.0]|       1.0|\n",
            "|  1.0|(692,[124,125,126...|   [5.0,95.0]|[0.05,0.95]|       1.0|\n",
            "|  1.0|(692,[127,128,129...|  [0.0,100.0]|  [0.0,1.0]|       1.0|\n",
            "|  1.0|(692,[127,128,129...|  [0.0,100.0]|  [0.0,1.0]|       1.0|\n",
            "+-----+--------------------+-------------+-----------+----------+\n",
            "only showing top 20 rows\n",
            "\n"
          ]
        }
      ]
    },
    {
      "cell_type": "code",
      "source": [
        "gbt_preds.show()"
      ],
      "metadata": {
        "colab": {
          "base_uri": "https://localhost:8080/"
        },
        "id": "O9CoLhlw5yBP",
        "outputId": "b6bed1cc-3dcf-4d8e-bfb5-f866221c84ce"
      },
      "execution_count": 18,
      "outputs": [
        {
          "output_type": "stream",
          "name": "stdout",
          "text": [
            "+-----+--------------------+--------------------+--------------------+----------+\n",
            "|label|            features|       rawPrediction|         probability|prediction|\n",
            "+-----+--------------------+--------------------+--------------------+----------+\n",
            "|  0.0|(692,[100,101,102...|[1.54350200272498...|[0.95635347857270...|       0.0|\n",
            "|  0.0|(692,[123,124,125...|[1.54350200272498...|[0.95635347857270...|       0.0|\n",
            "|  0.0|(692,[124,125,126...|[1.54350200272498...|[0.95635347857270...|       0.0|\n",
            "|  0.0|(692,[124,125,126...|[1.54350200272498...|[0.95635347857270...|       0.0|\n",
            "|  0.0|(692,[124,125,126...|[1.54350200272498...|[0.95635347857270...|       0.0|\n",
            "|  0.0|(692,[126,127,128...|[1.54350200272498...|[0.95635347857270...|       0.0|\n",
            "|  0.0|(692,[126,127,128...|[1.54350200272498...|[0.95635347857270...|       0.0|\n",
            "|  0.0|(692,[126,127,128...|[1.54350200272498...|[0.95635347857270...|       0.0|\n",
            "|  0.0|(692,[126,127,128...|[1.54350200272498...|[0.95635347857270...|       0.0|\n",
            "|  0.0|(692,[153,154,155...|[1.54350200272498...|[0.95635347857270...|       0.0|\n",
            "|  0.0|(692,[153,154,155...|[1.54350200272498...|[0.95635347857270...|       0.0|\n",
            "|  0.0|(692,[154,155,156...|[1.54350200272498...|[0.95635347857270...|       0.0|\n",
            "|  0.0|(692,[154,155,156...|[-0.9789915410535...|[0.12368549015985...|       1.0|\n",
            "|  0.0|(692,[154,155,156...|[-1.4996858706534...|[0.04745426387826...|       1.0|\n",
            "|  1.0|(692,[99,100,101,...|[-1.4996858706534...|[0.04745426387826...|       1.0|\n",
            "|  1.0|(692,[123,124,125...|[-1.5435020027249...|[0.04364652142729...|       1.0|\n",
            "|  1.0|(692,[123,124,125...|[-1.5435020027249...|[0.04364652142729...|       1.0|\n",
            "|  1.0|(692,[124,125,126...|[-1.0228076731250...|[0.11449617644315...|       1.0|\n",
            "|  1.0|(692,[127,128,129...|[-1.5435020027249...|[0.04364652142729...|       1.0|\n",
            "|  1.0|(692,[127,128,129...|[-1.5435020027249...|[0.04364652142729...|       1.0|\n",
            "+-----+--------------------+--------------------+--------------------+----------+\n",
            "only showing top 20 rows\n",
            "\n"
          ]
        }
      ]
    },
    {
      "cell_type": "code",
      "source": [
        "from pyspark.ml.evaluation import MulticlassClassificationEvaluator"
      ],
      "metadata": {
        "id": "Ie26Vp1u50zo"
      },
      "execution_count": 19,
      "outputs": []
    },
    {
      "cell_type": "code",
      "source": [
        "acc_eval = MulticlassClassificationEvaluator(metricName = 'accuracy')"
      ],
      "metadata": {
        "id": "B87CBg-u6pAf"
      },
      "execution_count": 20,
      "outputs": []
    },
    {
      "cell_type": "code",
      "source": [
        "acc_eval.evaluate(dtc_preds)"
      ],
      "metadata": {
        "colab": {
          "base_uri": "https://localhost:8080/"
        },
        "id": "S2J8XGfk6wjG",
        "outputId": "3d3afc5a-2676-4c4e-e385-286e2cbc4224"
      },
      "execution_count": 21,
      "outputs": [
        {
          "output_type": "execute_result",
          "data": {
            "text/plain": [
              "0.9285714285714286"
            ]
          },
          "metadata": {},
          "execution_count": 21
        }
      ]
    },
    {
      "cell_type": "code",
      "source": [
        "acc_eval.evaluate(rfc_preds)"
      ],
      "metadata": {
        "colab": {
          "base_uri": "https://localhost:8080/"
        },
        "id": "OqWyJB5P655_",
        "outputId": "731f372c-c981-40d2-ff3c-69da96403237"
      },
      "execution_count": 22,
      "outputs": [
        {
          "output_type": "execute_result",
          "data": {
            "text/plain": [
              "1.0"
            ]
          },
          "metadata": {},
          "execution_count": 22
        }
      ]
    },
    {
      "cell_type": "code",
      "source": [
        "acc_eval.evaluate(gbt_preds)"
      ],
      "metadata": {
        "colab": {
          "base_uri": "https://localhost:8080/"
        },
        "id": "oooP_7wN7ByW",
        "outputId": "2c4e9530-8621-4a2e-ea1d-3ce8f6d7ce0e"
      },
      "execution_count": 23,
      "outputs": [
        {
          "output_type": "execute_result",
          "data": {
            "text/plain": [
              "0.9285714285714286"
            ]
          },
          "metadata": {},
          "execution_count": 23
        }
      ]
    },
    {
      "cell_type": "code",
      "source": [
        "rfc_model.featureImportances"
      ],
      "metadata": {
        "colab": {
          "base_uri": "https://localhost:8080/"
        },
        "id": "22OymffQ7IzF",
        "outputId": "43039a57-dd5d-4175-d8a2-373d5f3a13d6"
      },
      "execution_count": 24,
      "outputs": [
        {
          "output_type": "execute_result",
          "data": {
            "text/plain": [
              "SparseVector(692, {131: 0.001, 146: 0.0014, 148: 0.0006, 158: 0.0006, 159: 0.0003, 208: 0.0064, 213: 0.0002, 216: 0.0005, 218: 0.0002, 231: 0.0005, 235: 0.006, 241: 0.0029, 242: 0.0011, 244: 0.0095, 246: 0.0004, 248: 0.0005, 263: 0.0076, 270: 0.0003, 271: 0.006, 272: 0.0154, 273: 0.0212, 289: 0.0145, 291: 0.0053, 300: 0.0382, 301: 0.0086, 314: 0.0006, 317: 0.0133, 323: 0.0011, 329: 0.0081, 330: 0.0158, 332: 0.0018, 344: 0.031, 345: 0.0169, 348: 0.0008, 350: 0.0318, 351: 0.0125, 356: 0.0011, 357: 0.0078, 358: 0.0247, 359: 0.0015, 372: 0.0073, 378: 0.0005, 379: 0.0452, 380: 0.0018, 383: 0.003, 384: 0.0018, 387: 0.0005, 397: 0.0007, 398: 0.0005, 400: 0.0203, 405: 0.0199, 406: 0.0383, 407: 0.0205, 410: 0.0008, 413: 0.0153, 427: 0.0006, 428: 0.0112, 429: 0.0028, 432: 0.0075, 433: 0.0583, 434: 0.0415, 435: 0.008, 436: 0.0006, 440: 0.0232, 441: 0.0011, 442: 0.0085, 455: 0.0189, 456: 0.013, 461: 0.0186, 462: 0.0217, 463: 0.0146, 468: 0.0093, 469: 0.009, 483: 0.0192, 484: 0.0082, 485: 0.0015, 489: 0.0187, 490: 0.0333, 496: 0.0018, 497: 0.0005, 510: 0.0029, 511: 0.0216, 512: 0.0096, 516: 0.0005, 517: 0.0181, 518: 0.0108, 519: 0.0005, 523: 0.0017, 524: 0.0089, 525: 0.0016, 538: 0.003, 539: 0.0095, 540: 0.0195, 544: 0.0003, 551: 0.0062, 556: 0.0007, 568: 0.0182, 570: 0.0013, 578: 0.009, 579: 0.0079, 582: 0.0006, 622: 0.0004, 650: 0.0002, 659: 0.0009, 687: 0.0006})"
            ]
          },
          "metadata": {},
          "execution_count": 24
        }
      ]
    }
  ]
}