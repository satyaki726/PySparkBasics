{
  "nbformat": 4,
  "nbformat_minor": 0,
  "metadata": {
    "colab": {
      "provenance": [],
      "authorship_tag": "ABX9TyMHbegfNpOscpn6q/PoyHdV"
    },
    "kernelspec": {
      "name": "python3",
      "display_name": "Python 3"
    },
    "language_info": {
      "name": "python"
    }
  },
  "cells": [
    {
      "cell_type": "code",
      "source": [
        "!pip install pyspark py4j"
      ],
      "metadata": {
        "colab": {
          "base_uri": "https://localhost:8080/"
        },
        "id": "ohVRb7v0uBmE",
        "outputId": "dd3df6c3-c67c-40a5-b2c0-d71ad729df3d"
      },
      "execution_count": 2,
      "outputs": [
        {
          "output_type": "stream",
          "name": "stdout",
          "text": [
            "Looking in indexes: https://pypi.org/simple, https://us-python.pkg.dev/colab-wheels/public/simple/\n",
            "Requirement already satisfied: pyspark in /usr/local/lib/python3.10/dist-packages (3.4.0)\n",
            "Requirement already satisfied: py4j in /usr/local/lib/python3.10/dist-packages (0.10.9.7)\n"
          ]
        }
      ]
    },
    {
      "cell_type": "code",
      "source": [
        "from pyspark.sql import SparkSession"
      ],
      "metadata": {
        "id": "uLpsqqiauHiw"
      },
      "execution_count": 3,
      "outputs": []
    },
    {
      "cell_type": "code",
      "source": [
        "spark = SparkSession.builder.appName('lr_example').getOrCreate()"
      ],
      "metadata": {
        "id": "un0_E3kxuOn3"
      },
      "execution_count": 4,
      "outputs": []
    },
    {
      "cell_type": "code",
      "source": [
        "from pyspark.ml.regression import LinearRegression"
      ],
      "metadata": {
        "id": "kZl4cBIHuXr8"
      },
      "execution_count": 5,
      "outputs": []
    },
    {
      "cell_type": "code",
      "source": [
        "data = spark.read.csv('Ecommerce_Customers.csv',inferSchema=True,header=True)"
      ],
      "metadata": {
        "id": "LNBJRgiKuevL"
      },
      "execution_count": 7,
      "outputs": []
    },
    {
      "cell_type": "code",
      "source": [
        "data.printSchema()"
      ],
      "metadata": {
        "colab": {
          "base_uri": "https://localhost:8080/"
        },
        "id": "85ngZnPZu0Bm",
        "outputId": "0900c49a-2256-46cf-e4c2-8c35493ffa01"
      },
      "execution_count": 8,
      "outputs": [
        {
          "output_type": "stream",
          "name": "stdout",
          "text": [
            "root\n",
            " |-- Email: string (nullable = true)\n",
            " |-- Address: string (nullable = true)\n",
            " |-- Avatar: string (nullable = true)\n",
            " |-- Avg Session Length: double (nullable = true)\n",
            " |-- Time on App: double (nullable = true)\n",
            " |-- Time on Website: double (nullable = true)\n",
            " |-- Length of Membership: double (nullable = true)\n",
            " |-- Yearly Amount Spent: double (nullable = true)\n",
            "\n"
          ]
        }
      ]
    },
    {
      "cell_type": "code",
      "source": [
        "for item in data.head(1)[0]:\n",
        "  print(item)"
      ],
      "metadata": {
        "colab": {
          "base_uri": "https://localhost:8080/"
        },
        "id": "SHmb5LNQu6lZ",
        "outputId": "c4d9ba8c-d32a-4f5f-9677-233dbd49fbca"
      },
      "execution_count": 10,
      "outputs": [
        {
          "output_type": "stream",
          "name": "stdout",
          "text": [
            "mstephenson@fernandez.com\n",
            "835 Frank TunnelWrightmouth, MI 82180-9605\n",
            "Violet\n",
            "34.49726772511229\n",
            "12.65565114916675\n",
            "39.57766801952616\n",
            "4.0826206329529615\n",
            "587.9510539684005\n"
          ]
        }
      ]
    },
    {
      "cell_type": "markdown",
      "source": [
        "#Aggregating The Features into one sigle column using VectorAssembler"
      ],
      "metadata": {
        "id": "-41w7DkCwQhE"
      }
    },
    {
      "cell_type": "code",
      "source": [
        "from pyspark.ml.linalg import Vectors\n",
        "from pyspark.ml.feature import VectorAssembler"
      ],
      "metadata": {
        "id": "pkihF5-rvNnK"
      },
      "execution_count": 11,
      "outputs": []
    },
    {
      "cell_type": "code",
      "source": [
        "data.columns"
      ],
      "metadata": {
        "colab": {
          "base_uri": "https://localhost:8080/"
        },
        "id": "sN8wXQJIwhmy",
        "outputId": "316f2d38-3970-43a4-e5f6-d4ec3c401643"
      },
      "execution_count": 12,
      "outputs": [
        {
          "output_type": "execute_result",
          "data": {
            "text/plain": [
              "['Email',\n",
              " 'Address',\n",
              " 'Avatar',\n",
              " 'Avg Session Length',\n",
              " 'Time on App',\n",
              " 'Time on Website',\n",
              " 'Length of Membership',\n",
              " 'Yearly Amount Spent']"
            ]
          },
          "metadata": {},
          "execution_count": 12
        }
      ]
    },
    {
      "cell_type": "code",
      "source": [
        "assembler = VectorAssembler(inputCols=['Avg Session Length',\n",
        " 'Time on App',\n",
        " 'Time on Website',\n",
        " 'Length of Membership'],outputCol='features')"
      ],
      "metadata": {
        "id": "QISC7-wPwPPg"
      },
      "execution_count": 14,
      "outputs": []
    },
    {
      "cell_type": "code",
      "source": [
        "output = assembler.transform(data) #creating a new dataframe with the aggregated feature column from the exisiting one by using VectorAssembler object's transfrom method"
      ],
      "metadata": {
        "id": "4J5RfKkwwyM8"
      },
      "execution_count": 15,
      "outputs": []
    },
    {
      "cell_type": "code",
      "source": [
        "output.select('features').show()"
      ],
      "metadata": {
        "colab": {
          "base_uri": "https://localhost:8080/"
        },
        "id": "ML4gggkexOql",
        "outputId": "6ac42847-e751-4459-d16e-6a9ca1c92960"
      },
      "execution_count": 16,
      "outputs": [
        {
          "output_type": "stream",
          "name": "stdout",
          "text": [
            "+--------------------+\n",
            "|            features|\n",
            "+--------------------+\n",
            "|[34.4972677251122...|\n",
            "|[31.9262720263601...|\n",
            "|[33.0009147556426...|\n",
            "|[34.3055566297555...|\n",
            "|[33.3306725236463...|\n",
            "|[33.8710378793419...|\n",
            "|[32.0215955013870...|\n",
            "|[32.7391429383803...|\n",
            "|[33.9877728956856...|\n",
            "|[31.9365486184489...|\n",
            "|[33.9925727749537...|\n",
            "|[33.8793608248049...|\n",
            "|[29.5324289670579...|\n",
            "|[33.1903340437226...|\n",
            "|[32.3879758531538...|\n",
            "|[30.7377203726281...|\n",
            "|[32.1253868972878...|\n",
            "|[32.3388993230671...|\n",
            "|[32.1878120459321...|\n",
            "|[32.6178560628234...|\n",
            "+--------------------+\n",
            "only showing top 20 rows\n",
            "\n"
          ]
        }
      ]
    },
    {
      "cell_type": "code",
      "source": [
        "final_data = output.select('features','Yearly Amount Spent')"
      ],
      "metadata": {
        "id": "TAuGbYGuxoGu"
      },
      "execution_count": 17,
      "outputs": []
    },
    {
      "cell_type": "code",
      "source": [
        "final_data.show()"
      ],
      "metadata": {
        "colab": {
          "base_uri": "https://localhost:8080/"
        },
        "id": "jyAry7zMxwfe",
        "outputId": "9b1c7774-b49d-43d8-9fe6-e88f70042253"
      },
      "execution_count": 18,
      "outputs": [
        {
          "output_type": "stream",
          "name": "stdout",
          "text": [
            "+--------------------+-------------------+\n",
            "|            features|Yearly Amount Spent|\n",
            "+--------------------+-------------------+\n",
            "|[34.4972677251122...|  587.9510539684005|\n",
            "|[31.9262720263601...|  392.2049334443264|\n",
            "|[33.0009147556426...| 487.54750486747207|\n",
            "|[34.3055566297555...|  581.8523440352177|\n",
            "|[33.3306725236463...|  599.4060920457634|\n",
            "|[33.8710378793419...|   637.102447915074|\n",
            "|[32.0215955013870...|  521.5721747578274|\n",
            "|[32.7391429383803...|  549.9041461052942|\n",
            "|[33.9877728956856...|  570.2004089636196|\n",
            "|[31.9365486184489...|  427.1993848953282|\n",
            "|[33.9925727749537...|  492.6060127179966|\n",
            "|[33.8793608248049...|  522.3374046069357|\n",
            "|[29.5324289670579...|  408.6403510726275|\n",
            "|[33.1903340437226...|  573.4158673313865|\n",
            "|[32.3879758531538...|  470.4527333009554|\n",
            "|[30.7377203726281...|  461.7807421962299|\n",
            "|[32.1253868972878...| 457.84769594494855|\n",
            "|[32.3388993230671...| 407.70454754954415|\n",
            "|[32.1878120459321...|  452.3156754800354|\n",
            "|[32.6178560628234...|   605.061038804892|\n",
            "+--------------------+-------------------+\n",
            "only showing top 20 rows\n",
            "\n"
          ]
        }
      ]
    },
    {
      "cell_type": "markdown",
      "source": [
        "#Split in Train Test Data"
      ],
      "metadata": {
        "id": "fEXqMhbOx9up"
      }
    },
    {
      "cell_type": "code",
      "source": [
        "train_data,test_data = final_data.randomSplit([0.7,0.3])"
      ],
      "metadata": {
        "id": "NCZKp9VKx0TG"
      },
      "execution_count": 19,
      "outputs": []
    },
    {
      "cell_type": "code",
      "source": [
        "train_data.describe().show()"
      ],
      "metadata": {
        "colab": {
          "base_uri": "https://localhost:8080/"
        },
        "id": "0Zf9NnJ2yDjM",
        "outputId": "84d2f07d-6f7f-4ab8-a85f-33d158afe859"
      },
      "execution_count": 20,
      "outputs": [
        {
          "output_type": "stream",
          "name": "stdout",
          "text": [
            "+-------+-------------------+\n",
            "|summary|Yearly Amount Spent|\n",
            "+-------+-------------------+\n",
            "|  count|                355|\n",
            "|   mean|  500.4294646325872|\n",
            "| stddev|   77.4081726633345|\n",
            "|    min|   266.086340948469|\n",
            "|    max|  765.5184619388373|\n",
            "+-------+-------------------+\n",
            "\n"
          ]
        }
      ]
    },
    {
      "cell_type": "code",
      "source": [
        "test_data.describe().show()"
      ],
      "metadata": {
        "colab": {
          "base_uri": "https://localhost:8080/"
        },
        "id": "pqQBvwNIyLI0",
        "outputId": "dda8dc55-f041-4146-d137-ee3d20332750"
      },
      "execution_count": 21,
      "outputs": [
        {
          "output_type": "stream",
          "name": "stdout",
          "text": [
            "+-------+-------------------+\n",
            "|summary|Yearly Amount Spent|\n",
            "+-------+-------------------+\n",
            "|  count|                145|\n",
            "|   mean| 496.58316679122106|\n",
            "| stddev|  84.01498252131155|\n",
            "|    min| 256.67058229005585|\n",
            "|    max|  744.2218671047146|\n",
            "+-------+-------------------+\n",
            "\n"
          ]
        }
      ]
    },
    {
      "cell_type": "markdown",
      "source": [
        "#Creating a Linear Regression Model"
      ],
      "metadata": {
        "id": "Bu-DIPQGyRaj"
      }
    },
    {
      "cell_type": "code",
      "source": [
        "lr = LinearRegression(labelCol='Yearly Amount Spent') #mentioning label col as it has a different name"
      ],
      "metadata": {
        "id": "Vp_ND6QByaZb"
      },
      "execution_count": 22,
      "outputs": []
    },
    {
      "cell_type": "markdown",
      "source": [
        "#Training the model based on the train dataset"
      ],
      "metadata": {
        "id": "P0Dh4Wx55jzy"
      }
    },
    {
      "cell_type": "code",
      "source": [
        "lr_Model = lr.fit(train_data) "
      ],
      "metadata": {
        "id": "QdLyTP8gy1J5"
      },
      "execution_count": 23,
      "outputs": []
    },
    {
      "cell_type": "markdown",
      "source": [
        "#Evalutaing the Model with Test Data"
      ],
      "metadata": {
        "id": "g4LSPIHJ5WXT"
      }
    },
    {
      "cell_type": "code",
      "source": [
        "test_results = lr_Model.evaluate(test_data)"
      ],
      "metadata": {
        "id": "Q0X8sTbFzvbB"
      },
      "execution_count": 25,
      "outputs": []
    },
    {
      "cell_type": "code",
      "source": [
        "test_results.residuals.show() #Residuals in a statistical or machine learning model are the differences between observed and predicted values of data"
      ],
      "metadata": {
        "colab": {
          "base_uri": "https://localhost:8080/"
        },
        "id": "j27DHn7wz4gV",
        "outputId": "3756fe5b-f7b6-4447-ef10-8527527a63b3"
      },
      "execution_count": 27,
      "outputs": [
        {
          "output_type": "stream",
          "name": "stdout",
          "text": [
            "+-------------------+\n",
            "|          residuals|\n",
            "+-------------------+\n",
            "|  11.19255549520426|\n",
            "| -4.278103836492164|\n",
            "|-3.6905731646024833|\n",
            "| -6.723519185537839|\n",
            "| 16.639763597735566|\n",
            "| -6.351463077577989|\n",
            "| -10.76885314340484|\n",
            "| -4.022292591930409|\n",
            "|-18.035521397340347|\n",
            "|  7.888896708433265|\n",
            "| -9.246661346365215|\n",
            "|  8.000146859325525|\n",
            "|-10.772761324030967|\n",
            "| -5.463347301650572|\n",
            "| -8.870080401599068|\n",
            "| 12.138631030031206|\n",
            "| -3.479321814072023|\n",
            "| 0.5617493877511492|\n",
            "|   17.8483242640159|\n",
            "| 0.4098897974954525|\n",
            "+-------------------+\n",
            "only showing top 20 rows\n",
            "\n"
          ]
        }
      ]
    },
    {
      "cell_type": "code",
      "source": [
        "test_results.rootMeanSquaredError"
      ],
      "metadata": {
        "colab": {
          "base_uri": "https://localhost:8080/"
        },
        "id": "bJkljJmc0ALQ",
        "outputId": "a51a8a2c-e7ec-47b2-cf20-4ebb8fc7f8ee"
      },
      "execution_count": 28,
      "outputs": [
        {
          "output_type": "execute_result",
          "data": {
            "text/plain": [
              "9.294180783540021"
            ]
          },
          "metadata": {},
          "execution_count": 28
        }
      ]
    },
    {
      "cell_type": "code",
      "source": [
        "test_results.r2"
      ],
      "metadata": {
        "colab": {
          "base_uri": "https://localhost:8080/"
        },
        "id": "WOJZlZaK0Ja_",
        "outputId": "86200517-622e-40be-f4da-431e6fc520fb"
      },
      "execution_count": 29,
      "outputs": [
        {
          "output_type": "execute_result",
          "data": {
            "text/plain": [
              "0.9876770621259687"
            ]
          },
          "metadata": {},
          "execution_count": 29
        }
      ]
    },
    {
      "cell_type": "code",
      "source": [
        "final_data.describe().show()"
      ],
      "metadata": {
        "colab": {
          "base_uri": "https://localhost:8080/"
        },
        "id": "eIwAwaEJ0P9e",
        "outputId": "d99550df-efa1-4634-c3fa-1bd384067e46"
      },
      "execution_count": 30,
      "outputs": [
        {
          "output_type": "stream",
          "name": "stdout",
          "text": [
            "+-------+-------------------+\n",
            "|summary|Yearly Amount Spent|\n",
            "+-------+-------------------+\n",
            "|  count|                500|\n",
            "|   mean|  499.3140382585909|\n",
            "| stddev|   79.3147815497068|\n",
            "|    min| 256.67058229005585|\n",
            "|    max|  765.5184619388373|\n",
            "+-------+-------------------+\n",
            "\n"
          ]
        }
      ]
    },
    {
      "cell_type": "markdown",
      "source": [
        "#Deploying The Model to Predict On Unlabeled Data"
      ],
      "metadata": {
        "id": "8dKutNRX6MrE"
      }
    },
    {
      "cell_type": "code",
      "source": [
        "unlabeled_data = test_data.select('features')"
      ],
      "metadata": {
        "id": "ezPMbtzB1JeS"
      },
      "execution_count": 32,
      "outputs": []
    },
    {
      "cell_type": "code",
      "source": [
        "unlabeled_data.show()"
      ],
      "metadata": {
        "colab": {
          "base_uri": "https://localhost:8080/"
        },
        "id": "4B8on7Jz1QEU",
        "outputId": "bc817fe1-8276-4d4b-e1e2-878b7929f3da"
      },
      "execution_count": 34,
      "outputs": [
        {
          "output_type": "stream",
          "name": "stdout",
          "text": [
            "+--------------------+\n",
            "|            features|\n",
            "+--------------------+\n",
            "|[29.5324289670579...|\n",
            "|[31.2681042107507...|\n",
            "|[31.4252268808548...|\n",
            "|[31.4474464941278...|\n",
            "|[31.6098395733896...|\n",
            "|[31.7242025238451...|\n",
            "|[31.8093003166791...|\n",
            "|[31.8124825597242...|\n",
            "|[31.8164283341993...|\n",
            "|[31.8209982016720...|\n",
            "|[31.8279790554652...|\n",
            "|[31.8512531286083...|\n",
            "|[31.8648325480987...|\n",
            "|[31.8745516945853...|\n",
            "|[31.8854062999117...|\n",
            "|[31.9096268275227...|\n",
            "|[31.9673209478824...|\n",
            "|[32.0047530203648...|\n",
            "|[32.0180740106320...|\n",
            "|[32.0444861274404...|\n",
            "+--------------------+\n",
            "only showing top 20 rows\n",
            "\n"
          ]
        }
      ]
    },
    {
      "cell_type": "code",
      "source": [
        "predictions = lr_Model.transform(unlabeled_data)"
      ],
      "metadata": {
        "id": "s2YYSVPs1aUV"
      },
      "execution_count": 36,
      "outputs": []
    },
    {
      "cell_type": "code",
      "source": [
        "predictions.show()\n",
        "test_data.show()"
      ],
      "metadata": {
        "colab": {
          "base_uri": "https://localhost:8080/"
        },
        "id": "9tuO3wn41rSF",
        "outputId": "f86cb8f8-fec8-44b7-c089-d9ae6266a00b"
      },
      "execution_count": 41,
      "outputs": [
        {
          "output_type": "stream",
          "name": "stdout",
          "text": [
            "+--------------------+------------------+\n",
            "|            features|        prediction|\n",
            "+--------------------+------------------+\n",
            "|[29.5324289670579...| 397.4477955774232|\n",
            "|[31.2681042107507...| 427.7486370103161|\n",
            "|[31.4252268808548...| 534.4572918193644|\n",
            "|[31.4474464941278...|425.32626128076186|\n",
            "|[31.6098395733896...| 427.9057860533726|\n",
            "|[31.7242025238451...| 509.7393503655385|\n",
            "|[31.8093003166791...|  547.540752506246|\n",
            "|[31.8124825597242...|396.83263757572763|\n",
            "|[31.8164283341993...| 519.1580129009967|\n",
            "|[31.8209982016720...| 416.7863843047801|\n",
            "|[31.8279790554652...|449.24940889330674|\n",
            "|[31.8512531286083...|464.99209980747287|\n",
            "|[31.8648325480987...|450.66404180084464|\n",
            "|[31.8745516945853...|397.74859154791807|\n",
            "|[31.8854062999117...| 398.9733533740746|\n",
            "|[31.9096268275227...|  551.307404643208|\n",
            "|[31.9673209478824...| 449.2291630537243|\n",
            "|[32.0047530203648...| 463.1842317328783|\n",
            "|[32.0180740106320...| 339.9347864812994|\n",
            "|[32.0444861274404...| 447.8199393890545|\n",
            "+--------------------+------------------+\n",
            "only showing top 20 rows\n",
            "\n",
            "+--------------------+-------------------+\n",
            "|            features|Yearly Amount Spent|\n",
            "+--------------------+-------------------+\n",
            "|[29.5324289670579...|  408.6403510726275|\n",
            "|[31.2681042107507...|  423.4705331738239|\n",
            "|[31.4252268808548...|  530.7667186547619|\n",
            "|[31.4474464941278...|   418.602742095224|\n",
            "|[31.6098395733896...| 444.54554965110816|\n",
            "|[31.7242025238451...|  503.3878872879605|\n",
            "|[31.8093003166791...|  536.7718993628412|\n",
            "|[31.8124825597242...|  392.8103449837972|\n",
            "|[31.8164283341993...| 501.12249150365636|\n",
            "|[31.8209982016720...| 424.67528101321335|\n",
            "|[31.8279790554652...|  440.0027475469415|\n",
            "|[31.8512531286083...|  472.9922466667984|\n",
            "|[31.8648325480987...|  439.8912804768137|\n",
            "|[31.8745516945853...|  392.2852442462675|\n",
            "|[31.8854062999117...|  390.1032729724755|\n",
            "|[31.9096268275227...|  563.4460356732392|\n",
            "|[31.9673209478824...| 445.74984123965226|\n",
            "|[32.0047530203648...| 463.74598112062944|\n",
            "|[32.0180740106320...|  357.7831107453153|\n",
            "|[32.0444861274404...|    448.22982918655|\n",
            "+--------------------+-------------------+\n",
            "only showing top 20 rows\n",
            "\n"
          ]
        }
      ]
    }
  ]
}