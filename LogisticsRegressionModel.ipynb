{
  "nbformat": 4,
  "nbformat_minor": 0,
  "metadata": {
    "colab": {
      "provenance": [],
      "authorship_tag": "ABX9TyNbjzms2EOmELRfklln/uQd"
    },
    "kernelspec": {
      "name": "python3",
      "display_name": "Python 3"
    },
    "language_info": {
      "name": "python"
    }
  },
  "cells": [
    {
      "cell_type": "code",
      "execution_count": 8,
      "metadata": {
        "colab": {
          "base_uri": "https://localhost:8080/"
        },
        "id": "3IN3V7vWIRz1",
        "outputId": "3131fadd-cfe7-4937-9703-8a5caacf1498"
      },
      "outputs": [
        {
          "output_type": "stream",
          "name": "stdout",
          "text": [
            "Looking in indexes: https://pypi.org/simple, https://us-python.pkg.dev/colab-wheels/public/simple/\n",
            "Requirement already satisfied: pyspark in /usr/local/lib/python3.10/dist-packages (3.4.0)\n",
            "Requirement already satisfied: py4j in /usr/local/lib/python3.10/dist-packages (0.10.9.7)\n"
          ]
        }
      ],
      "source": [
        "!pip install pyspark py4j"
      ]
    },
    {
      "cell_type": "code",
      "source": [
        "from pyspark.sql import SparkSession"
      ],
      "metadata": {
        "id": "9h9YaxP8Q0kx"
      },
      "execution_count": null,
      "outputs": []
    },
    {
      "cell_type": "code",
      "source": [
        "spark = SparkSession.builder.appName('myLogReg').getOrCreate()"
      ],
      "metadata": {
        "id": "t-VRSWkIRPWL"
      },
      "execution_count": null,
      "outputs": []
    },
    {
      "cell_type": "code",
      "source": [
        "from pyspark.ml.classification import LogisticRegression"
      ],
      "metadata": {
        "id": "79RYXQalRaGa"
      },
      "execution_count": null,
      "outputs": []
    },
    {
      "cell_type": "code",
      "source": [
        "my_data = spark.read.format('libsvm').load('sample_libsvm_data.txt')"
      ],
      "metadata": {
        "id": "ksQqSo26RhU7"
      },
      "execution_count": null,
      "outputs": []
    },
    {
      "cell_type": "code",
      "source": [
        "my_data.show()"
      ],
      "metadata": {
        "colab": {
          "base_uri": "https://localhost:8080/"
        },
        "id": "jVXSbacKRulh",
        "outputId": "28844d8b-0582-4545-8fc8-ab8a33447504"
      },
      "execution_count": null,
      "outputs": [
        {
          "output_type": "stream",
          "name": "stdout",
          "text": [
            "+-----+--------------------+\n",
            "|label|            features|\n",
            "+-----+--------------------+\n",
            "|  0.0|(692,[127,128,129...|\n",
            "|  1.0|(692,[158,159,160...|\n",
            "|  1.0|(692,[124,125,126...|\n",
            "|  1.0|(692,[152,153,154...|\n",
            "|  1.0|(692,[151,152,153...|\n",
            "|  0.0|(692,[129,130,131...|\n",
            "|  1.0|(692,[158,159,160...|\n",
            "|  1.0|(692,[99,100,101,...|\n",
            "|  0.0|(692,[154,155,156...|\n",
            "|  0.0|(692,[127,128,129...|\n",
            "|  1.0|(692,[154,155,156...|\n",
            "|  0.0|(692,[153,154,155...|\n",
            "|  0.0|(692,[151,152,153...|\n",
            "|  1.0|(692,[129,130,131...|\n",
            "|  0.0|(692,[154,155,156...|\n",
            "|  1.0|(692,[150,151,152...|\n",
            "|  0.0|(692,[124,125,126...|\n",
            "|  0.0|(692,[152,153,154...|\n",
            "|  1.0|(692,[97,98,99,12...|\n",
            "|  1.0|(692,[124,125,126...|\n",
            "+-----+--------------------+\n",
            "only showing top 20 rows\n",
            "\n"
          ]
        }
      ]
    },
    {
      "cell_type": "code",
      "source": [
        "my_log_reg_model = LogisticRegression()"
      ],
      "metadata": {
        "id": "lE29NZcPRyNA"
      },
      "execution_count": null,
      "outputs": []
    },
    {
      "cell_type": "code",
      "source": [
        "fitted_logreg =  my_log_reg_model.fit(my_data)"
      ],
      "metadata": {
        "id": "UxNAlQb2TPVY"
      },
      "execution_count": 11,
      "outputs": []
    },
    {
      "cell_type": "code",
      "source": [
        "log_summary = fitted_logreg.summary"
      ],
      "metadata": {
        "id": "GZ4J-HmqTXwa"
      },
      "execution_count": 12,
      "outputs": []
    },
    {
      "cell_type": "code",
      "source": [
        "log_summary.predictions.show()"
      ],
      "metadata": {
        "colab": {
          "base_uri": "https://localhost:8080/"
        },
        "id": "xs0OoglFTnii",
        "outputId": "7504ae81-8e7a-451c-8cbe-6c139a39db6d"
      },
      "execution_count": 13,
      "outputs": [
        {
          "output_type": "stream",
          "name": "stdout",
          "text": [
            "+-----+--------------------+--------------------+--------------------+----------+\n",
            "|label|            features|       rawPrediction|         probability|prediction|\n",
            "+-----+--------------------+--------------------+--------------------+----------+\n",
            "|  0.0|(692,[127,128,129...|[20.3777627514872...|[0.99999999858729...|       0.0|\n",
            "|  1.0|(692,[158,159,160...|[-21.114014198868...|[6.76550380000472...|       1.0|\n",
            "|  1.0|(692,[124,125,126...|[-23.743613234676...|[4.87842678716177...|       1.0|\n",
            "|  1.0|(692,[152,153,154...|[-19.192574012720...|[4.62137287298144...|       1.0|\n",
            "|  1.0|(692,[151,152,153...|[-20.125398874699...|[1.81823629113068...|       1.0|\n",
            "|  0.0|(692,[129,130,131...|[20.4890549504196...|[0.99999999873608...|       0.0|\n",
            "|  1.0|(692,[158,159,160...|[-21.082940212814...|[6.97903542823766...|       1.0|\n",
            "|  1.0|(692,[99,100,101,...|[-19.622713503550...|[3.00582577446132...|       1.0|\n",
            "|  0.0|(692,[154,155,156...|[21.1594863606582...|[0.99999999935352...|       0.0|\n",
            "|  0.0|(692,[127,128,129...|[28.1036706837287...|[0.99999999999937...|       0.0|\n",
            "|  1.0|(692,[154,155,156...|[-21.054076780106...|[7.18340962960324...|       1.0|\n",
            "|  0.0|(692,[153,154,155...|[26.9648490510184...|[0.99999999999805...|       0.0|\n",
            "|  0.0|(692,[151,152,153...|[32.7855654161400...|[0.99999999999999...|       0.0|\n",
            "|  1.0|(692,[129,130,131...|[-20.331839179667...|[1.47908944089721...|       1.0|\n",
            "|  0.0|(692,[154,155,156...|[21.7830579106564...|[0.99999999965347...|       0.0|\n",
            "|  1.0|(692,[150,151,152...|[-20.640562103728...|[1.08621994880353...|       1.0|\n",
            "|  0.0|(692,[124,125,126...|[22.6400775503731...|[0.99999999985292...|       0.0|\n",
            "|  0.0|(692,[152,153,154...|[38.0712919910909...|           [1.0,0.0]|       0.0|\n",
            "|  1.0|(692,[97,98,99,12...|[-19.830803265627...|[2.44113371545874...|       1.0|\n",
            "|  1.0|(692,[124,125,126...|[-21.016054806036...|[7.46179590484091...|       1.0|\n",
            "+-----+--------------------+--------------------+--------------------+----------+\n",
            "only showing top 20 rows\n",
            "\n"
          ]
        }
      ]
    },
    {
      "cell_type": "code",
      "source": [
        "log_summary.predictions.printSchema()"
      ],
      "metadata": {
        "colab": {
          "base_uri": "https://localhost:8080/"
        },
        "id": "OICDq72pTveR",
        "outputId": "e6725b8f-1901-4f5c-fbdf-6639bb6bc847"
      },
      "execution_count": 14,
      "outputs": [
        {
          "output_type": "stream",
          "name": "stdout",
          "text": [
            "root\n",
            " |-- label: double (nullable = true)\n",
            " |-- features: vector (nullable = true)\n",
            " |-- rawPrediction: vector (nullable = true)\n",
            " |-- probability: vector (nullable = true)\n",
            " |-- prediction: double (nullable = false)\n",
            "\n"
          ]
        }
      ]
    },
    {
      "cell_type": "code",
      "source": [
        "training_data, testing_data = my_data.randomSplit([0.7,0.3])"
      ],
      "metadata": {
        "id": "Jt2pYbPLT9Dr"
      },
      "execution_count": 15,
      "outputs": []
    },
    {
      "cell_type": "code",
      "source": [
        "fitted_logreg =  my_log_reg_model.fit(training_data)"
      ],
      "metadata": {
        "id": "vYUnAStcUT1k"
      },
      "execution_count": 16,
      "outputs": []
    },
    {
      "cell_type": "code",
      "source": [
        "predictions_set = fitted_logreg.evaluate(testing_data)"
      ],
      "metadata": {
        "id": "_IjKT7UkUfjj"
      },
      "execution_count": 19,
      "outputs": []
    },
    {
      "cell_type": "code",
      "source": [
        "predictions_set.predictions.show()"
      ],
      "metadata": {
        "colab": {
          "base_uri": "https://localhost:8080/"
        },
        "id": "gsnQV_2GUx66",
        "outputId": "2d35575b-f360-4b6d-9c55-fc4209d2d8a4"
      },
      "execution_count": 20,
      "outputs": [
        {
          "output_type": "stream",
          "name": "stdout",
          "text": [
            "+-----+--------------------+--------------------+--------------------+----------+\n",
            "|label|            features|       rawPrediction|         probability|prediction|\n",
            "+-----+--------------------+--------------------+--------------------+----------+\n",
            "|  0.0|(692,[95,96,97,12...|[18.4658535989544...|[0.99999999044167...|       0.0|\n",
            "|  0.0|(692,[121,122,123...|[29.0110428289023...|[0.99999999999974...|       0.0|\n",
            "|  0.0|(692,[123,124,125...|[38.2104661158570...|           [1.0,0.0]|       0.0|\n",
            "|  0.0|(692,[123,124,125...|[26.2079255321819...|[0.99999999999585...|       0.0|\n",
            "|  0.0|(692,[125,126,127...|[38.4286915260759...|           [1.0,0.0]|       0.0|\n",
            "|  0.0|(692,[126,127,128...|[34.1074529298884...|[0.99999999999999...|       0.0|\n",
            "|  0.0|(692,[126,127,128...|[42.4402720773354...|           [1.0,0.0]|       0.0|\n",
            "|  0.0|(692,[126,127,128...|[30.8252387474630...|[0.99999999999995...|       0.0|\n",
            "|  0.0|(692,[126,127,128...|[36.7204747362612...|[0.99999999999999...|       0.0|\n",
            "|  0.0|(692,[151,152,153...|[36.2748554872937...|[0.99999999999999...|       0.0|\n",
            "|  0.0|(692,[152,153,154...|[23.6730682219989...|[0.99999999994764...|       0.0|\n",
            "|  0.0|(692,[152,153,154...|[10.9513394551261...|[0.99998246579458...|       0.0|\n",
            "|  0.0|(692,[154,155,156...|[17.4708692624231...|[0.99999997414777...|       0.0|\n",
            "|  0.0|(692,[155,156,180...|[40.274431925673,...|           [1.0,0.0]|       0.0|\n",
            "|  1.0|(692,[99,100,101,...|[0.71068858379581...|[0.67055329379965...|       0.0|\n",
            "|  1.0|(692,[119,120,121...|[10.7950161618955...|[0.99997949899529...|       0.0|\n",
            "|  1.0|(692,[123,124,125...|[-22.291057230323...|[2.08505180071262...|       1.0|\n",
            "|  1.0|(692,[123,124,125...|[-17.517696631333...|[2.46695374517563...|       1.0|\n",
            "|  1.0|(692,[123,124,125...|[-18.975992378546...|[5.73893384999452...|       1.0|\n",
            "|  1.0|(692,[124,125,126...|[-25.095377813838...|[1.26245496353430...|       1.0|\n",
            "+-----+--------------------+--------------------+--------------------+----------+\n",
            "only showing top 20 rows\n",
            "\n"
          ]
        }
      ]
    },
    {
      "cell_type": "code",
      "source": [
        "from pyspark.ml.evaluation import ( BinaryClassificationEvaluator,MulticlassClassificationEvaluator)"
      ],
      "metadata": {
        "id": "uVWUF0W6VQsD"
      },
      "execution_count": 21,
      "outputs": []
    },
    {
      "cell_type": "code",
      "source": [
        "my_eval = BinaryClassificationEvaluator()"
      ],
      "metadata": {
        "id": "NLmG8sh8WMRB"
      },
      "execution_count": 22,
      "outputs": []
    },
    {
      "cell_type": "code",
      "source": [
        "my_final_roc = my_eval.evaluate(predictions_set.predictions)"
      ],
      "metadata": {
        "id": "pPY9fM5FWShi"
      },
      "execution_count": 23,
      "outputs": []
    },
    {
      "cell_type": "code",
      "source": [
        "my_final_roc"
      ],
      "metadata": {
        "colab": {
          "base_uri": "https://localhost:8080/"
        },
        "id": "xXwDxkGQWiEI",
        "outputId": "c2a4e887-8c4d-4f85-fd78-9d3cb90a7641"
      },
      "execution_count": 24,
      "outputs": [
        {
          "output_type": "execute_result",
          "data": {
            "text/plain": [
              "1.0"
            ]
          },
          "metadata": {},
          "execution_count": 24
        }
      ]
    }
  ]
}