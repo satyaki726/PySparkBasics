{
  "nbformat": 4,
  "nbformat_minor": 0,
  "metadata": {
    "colab": {
      "provenance": [],
      "authorship_tag": "ABX9TyOBnJwWkg7wvaBw3qZL9L76"
    },
    "kernelspec": {
      "name": "python3",
      "display_name": "Python 3"
    },
    "language_info": {
      "name": "python"
    }
  },
  "cells": [
    {
      "cell_type": "code",
      "execution_count": 49,
      "metadata": {
        "colab": {
          "base_uri": "https://localhost:8080/"
        },
        "id": "Sy70bXLJuhcS",
        "outputId": "9e952e16-d890-4f11-8563-8bbd58ad43ce"
      },
      "outputs": [
        {
          "output_type": "stream",
          "name": "stdout",
          "text": [
            "Looking in indexes: https://pypi.org/simple, https://us-python.pkg.dev/colab-wheels/public/simple/\n",
            "Requirement already satisfied: pyspark in /usr/local/lib/python3.10/dist-packages (3.4.0)\n",
            "Requirement already satisfied: py4j in /usr/local/lib/python3.10/dist-packages (0.10.9.7)\n"
          ]
        }
      ],
      "source": [
        "!pip install pyspark py4j"
      ]
    },
    {
      "cell_type": "markdown",
      "source": [
        "#Added the Data from CSV"
      ],
      "metadata": {
        "id": "Qc5W0gyCD4ce"
      }
    },
    {
      "cell_type": "code",
      "source": [
        "from pyspark.sql import SparkSession"
      ],
      "metadata": {
        "id": "8S15DsH3u5Qb"
      },
      "execution_count": 50,
      "outputs": []
    },
    {
      "cell_type": "code",
      "source": [
        "spark = SparkSession.builder.appName('titanic_lor').getOrCreate()"
      ],
      "metadata": {
        "id": "hnwVTVjpvMHb"
      },
      "execution_count": 51,
      "outputs": []
    },
    {
      "cell_type": "code",
      "source": [
        "data = spark.read.csv(\"titanic.csv\",inferSchema=True,header=True)"
      ],
      "metadata": {
        "id": "fQmIwfzFvU27"
      },
      "execution_count": 52,
      "outputs": []
    },
    {
      "cell_type": "code",
      "source": [
        "data.show()"
      ],
      "metadata": {
        "colab": {
          "base_uri": "https://localhost:8080/"
        },
        "id": "hAY6L4jTvh8j",
        "outputId": "24e7273e-3281-4465-be0d-6996b44e0f5d"
      },
      "execution_count": 53,
      "outputs": [
        {
          "output_type": "stream",
          "name": "stdout",
          "text": [
            "+-----------+--------+------+--------------------+------+----+-----+-----+----------------+-------+-----+--------+\n",
            "|PassengerId|Survived|Pclass|                Name|   Sex| Age|SibSp|Parch|          Ticket|   Fare|Cabin|Embarked|\n",
            "+-----------+--------+------+--------------------+------+----+-----+-----+----------------+-------+-----+--------+\n",
            "|          1|       0|     3|Braund, Mr. Owen ...|  male|22.0|    1|    0|       A/5 21171|   7.25| null|       S|\n",
            "|          2|       1|     1|Cumings, Mrs. Joh...|female|38.0|    1|    0|        PC 17599|71.2833|  C85|       C|\n",
            "|          3|       1|     3|Heikkinen, Miss. ...|female|26.0|    0|    0|STON/O2. 3101282|  7.925| null|       S|\n",
            "|          4|       1|     1|Futrelle, Mrs. Ja...|female|35.0|    1|    0|          113803|   53.1| C123|       S|\n",
            "|          5|       0|     3|Allen, Mr. Willia...|  male|35.0|    0|    0|          373450|   8.05| null|       S|\n",
            "|          6|       0|     3|    Moran, Mr. James|  male|null|    0|    0|          330877| 8.4583| null|       Q|\n",
            "|          7|       0|     1|McCarthy, Mr. Tim...|  male|54.0|    0|    0|           17463|51.8625|  E46|       S|\n",
            "|          8|       0|     3|Palsson, Master. ...|  male| 2.0|    3|    1|          349909| 21.075| null|       S|\n",
            "|          9|       1|     3|Johnson, Mrs. Osc...|female|27.0|    0|    2|          347742|11.1333| null|       S|\n",
            "|         10|       1|     2|Nasser, Mrs. Nich...|female|14.0|    1|    0|          237736|30.0708| null|       C|\n",
            "|         11|       1|     3|Sandstrom, Miss. ...|female| 4.0|    1|    1|         PP 9549|   16.7|   G6|       S|\n",
            "|         12|       1|     1|Bonnell, Miss. El...|female|58.0|    0|    0|          113783|  26.55| C103|       S|\n",
            "|         13|       0|     3|Saundercock, Mr. ...|  male|20.0|    0|    0|       A/5. 2151|   8.05| null|       S|\n",
            "|         14|       0|     3|Andersson, Mr. An...|  male|39.0|    1|    5|          347082| 31.275| null|       S|\n",
            "|         15|       0|     3|Vestrom, Miss. Hu...|female|14.0|    0|    0|          350406| 7.8542| null|       S|\n",
            "|         16|       1|     2|Hewlett, Mrs. (Ma...|female|55.0|    0|    0|          248706|   16.0| null|       S|\n",
            "|         17|       0|     3|Rice, Master. Eugene|  male| 2.0|    4|    1|          382652| 29.125| null|       Q|\n",
            "|         18|       1|     2|Williams, Mr. Cha...|  male|null|    0|    0|          244373|   13.0| null|       S|\n",
            "|         19|       0|     3|Vander Planke, Mr...|female|31.0|    1|    0|          345763|   18.0| null|       S|\n",
            "|         20|       1|     3|Masselmani, Mrs. ...|female|null|    0|    0|            2649|  7.225| null|       C|\n",
            "+-----------+--------+------+--------------------+------+----+-----+-----+----------------+-------+-----+--------+\n",
            "only showing top 20 rows\n",
            "\n"
          ]
        }
      ]
    },
    {
      "cell_type": "code",
      "source": [
        "data.printSchema()"
      ],
      "metadata": {
        "colab": {
          "base_uri": "https://localhost:8080/"
        },
        "id": "FpCZM-njvp8a",
        "outputId": "b1bc9c60-03de-4bae-fe50-f8a4f1399de8"
      },
      "execution_count": 54,
      "outputs": [
        {
          "output_type": "stream",
          "name": "stdout",
          "text": [
            "root\n",
            " |-- PassengerId: integer (nullable = true)\n",
            " |-- Survived: integer (nullable = true)\n",
            " |-- Pclass: integer (nullable = true)\n",
            " |-- Name: string (nullable = true)\n",
            " |-- Sex: string (nullable = true)\n",
            " |-- Age: double (nullable = true)\n",
            " |-- SibSp: integer (nullable = true)\n",
            " |-- Parch: integer (nullable = true)\n",
            " |-- Ticket: string (nullable = true)\n",
            " |-- Fare: double (nullable = true)\n",
            " |-- Cabin: string (nullable = true)\n",
            " |-- Embarked: string (nullable = true)\n",
            "\n"
          ]
        }
      ]
    },
    {
      "cell_type": "code",
      "source": [
        "data.columns"
      ],
      "metadata": {
        "colab": {
          "base_uri": "https://localhost:8080/"
        },
        "id": "ZoXISsvqz1or",
        "outputId": "f998d818-0932-4d55-f7ea-5bbaf3b53103"
      },
      "execution_count": 55,
      "outputs": [
        {
          "output_type": "execute_result",
          "data": {
            "text/plain": [
              "['PassengerId',\n",
              " 'Survived',\n",
              " 'Pclass',\n",
              " 'Name',\n",
              " 'Sex',\n",
              " 'Age',\n",
              " 'SibSp',\n",
              " 'Parch',\n",
              " 'Ticket',\n",
              " 'Fare',\n",
              " 'Cabin',\n",
              " 'Embarked']"
            ]
          },
          "metadata": {},
          "execution_count": 55
        }
      ]
    },
    {
      "cell_type": "markdown",
      "source": [
        "#Filtering Out The Columns And Droping Rows That Have Null Value\n",
        "\n"
      ],
      "metadata": {
        "id": "MYoJvsPGECxU"
      }
    },
    {
      "cell_type": "code",
      "source": [
        "my_cols = data.select(['Survived',\n",
        " 'Pclass','Sex',\n",
        " 'Age',\n",
        " 'SibSp',\n",
        " 'Parch','Fare','Embarked'])"
      ],
      "metadata": {
        "id": "QmuEyPTD0AED"
      },
      "execution_count": 56,
      "outputs": []
    },
    {
      "cell_type": "code",
      "source": [
        "my_final_data = my_cols.na.drop()"
      ],
      "metadata": {
        "id": "ZaJePqwW0VJy"
      },
      "execution_count": 57,
      "outputs": []
    },
    {
      "cell_type": "markdown",
      "source": [
        "#Added the Assembler And Indexer And OneHotEncoder For Creating A DataFrame which is understandable For PySpark"
      ],
      "metadata": {
        "id": "6xzvu072EPym"
      }
    },
    {
      "cell_type": "code",
      "source": [
        "from pyspark.ml.feature import (VectorAssembler,VectorIndexer,\n",
        "                                OneHotEncoder,StringIndexer)"
      ],
      "metadata": {
        "id": "jKOszYkr0d4z"
      },
      "execution_count": 58,
      "outputs": []
    },
    {
      "cell_type": "code",
      "source": [
        "gender_indexer = StringIndexer(inputCol='Sex',outputCol='SexIndex')\n",
        "#A B C\n",
        "#0 1 2\n",
        "#[1,0,0] [0,1,0] [0,0,1]\n",
        "gneder_encoder = OneHotEncoder(inputCol='SexIndex',outputCol='SexVec')"
      ],
      "metadata": {
        "id": "Fzrtbn0c0u2b"
      },
      "execution_count": 59,
      "outputs": []
    },
    {
      "cell_type": "code",
      "source": [
        "embarked_indexer = StringIndexer(inputCol='Embarked',outputCol='EmbarkedIndex')\n",
        "embarked_encoder = OneHotEncoder(inputCol='EmbarkedIndex',outputCol='EmbarkedVec')"
      ],
      "metadata": {
        "id": "hkU6tNjX3OXu"
      },
      "execution_count": 60,
      "outputs": []
    },
    {
      "cell_type": "code",
      "source": [
        "assembler = VectorAssembler(inputCols=['Pclass','SexVec',\n",
        " 'Age',\n",
        " 'SibSp',\n",
        " 'Parch','Fare','EmbarkedVec'],outputCol='features')"
      ],
      "metadata": {
        "id": "5phSnNGc3ilk"
      },
      "execution_count": 61,
      "outputs": []
    },
    {
      "cell_type": "markdown",
      "source": [
        "#Creating The ML Model"
      ],
      "metadata": {
        "id": "JEutGHTXElmo"
      }
    },
    {
      "cell_type": "code",
      "source": [
        "from pyspark.ml.classification import LogisticRegression\n",
        "from pyspark.ml import Pipeline"
      ],
      "metadata": {
        "id": "j4xiHQw94PRG"
      },
      "execution_count": 62,
      "outputs": []
    },
    {
      "cell_type": "code",
      "source": [
        "log_reg_titanic = LogisticRegression(featuresCol='features',labelCol='Survived')"
      ],
      "metadata": {
        "id": "VS4Ps2wL4kSb"
      },
      "execution_count": 63,
      "outputs": []
    },
    {
      "cell_type": "markdown",
      "source": [
        "#Adding all the step from the StringIndexer, OneHotEncoding, Assembler & ML Model in a Pipeline to automate the process"
      ],
      "metadata": {
        "id": "MLuL64JKEq7w"
      }
    },
    {
      "cell_type": "markdown",
      "source": [
        "A simple pipeline, which acts as an estimator. A Pipeline consists\n",
        "of a sequence of stages, each of which is either an\n",
        "Estimator or a Transformer. When\n",
        "Pipeline.fit is called, the stages are executed in\n",
        "order. If a stage is an Estimator, its\n",
        "Estimator.fit method will be called on the input\n",
        "dataset to fit a model. Then the model, which is a transformer,\n",
        "will be used to transform the dataset as the input to the next\n",
        "stage. If a stage is a Transformer, its\n",
        "Transformer.transform method will be called to produce\n",
        "the dataset for the next stage. The fitted model from a\n",
        "Pipeline is a PipelineModel, which\n",
        "consists of fitted models and transformers, corresponding to the\n",
        "pipeline stages. If stages is an empty list, the pipeline acts as an\n",
        "identity transformer."
      ],
      "metadata": {
        "id": "kOd4Hb9l6mHj"
      }
    },
    {
      "cell_type": "code",
      "source": [
        "pipeline = Pipeline(stages=[gender_indexer,embarked_indexer,\n",
        "                            gneder_encoder,embarked_encoder,\n",
        "                            assembler,log_reg_titanic])"
      ],
      "metadata": {
        "id": "_tjIXjxN5APL"
      },
      "execution_count": 64,
      "outputs": []
    },
    {
      "cell_type": "markdown",
      "source": [
        "#Splitting the Data in Train & Test "
      ],
      "metadata": {
        "id": "sZ68MTAZFB4w"
      }
    },
    {
      "cell_type": "code",
      "source": [
        "train_data,test_data = my_final_data.randomSplit([0.7,0.3])"
      ],
      "metadata": {
        "id": "TWkbpGF357T1"
      },
      "execution_count": 65,
      "outputs": []
    },
    {
      "cell_type": "markdown",
      "source": [
        "#Starting the pipeline by calling the pipeline.fit in which train_data is passed\n",
        "(By this all the process in the pipeline from Indexer to Ml Object everything will run on train_data)"
      ],
      "metadata": {
        "id": "RXhvGCfXFJkO"
      }
    },
    {
      "cell_type": "code",
      "source": [
        "fitted_model = pipeline.fit(train_data)"
      ],
      "metadata": {
        "id": "pER_obCk7yqB"
      },
      "execution_count": 66,
      "outputs": []
    },
    {
      "cell_type": "markdown",
      "source": [
        "#Evaluating the Test Dataframe"
      ],
      "metadata": {
        "id": "EJLs4aRWFooV"
      }
    },
    {
      "cell_type": "code",
      "source": [
        "results = fitted_model.transform(test_data)"
      ],
      "metadata": {
        "id": "ViA2CN0w82bq"
      },
      "execution_count": 67,
      "outputs": []
    },
    {
      "cell_type": "code",
      "source": [
        "results.printSchema()"
      ],
      "metadata": {
        "colab": {
          "base_uri": "https://localhost:8080/"
        },
        "id": "XSM6dzHh_5Xn",
        "outputId": "f9056d55-d727-42ff-ccfc-01a31472cf4e"
      },
      "execution_count": 68,
      "outputs": [
        {
          "output_type": "stream",
          "name": "stdout",
          "text": [
            "root\n",
            " |-- Survived: integer (nullable = true)\n",
            " |-- Pclass: integer (nullable = true)\n",
            " |-- Sex: string (nullable = true)\n",
            " |-- Age: double (nullable = true)\n",
            " |-- SibSp: integer (nullable = true)\n",
            " |-- Parch: integer (nullable = true)\n",
            " |-- Fare: double (nullable = true)\n",
            " |-- Embarked: string (nullable = true)\n",
            " |-- SexIndex: double (nullable = false)\n",
            " |-- EmbarkedIndex: double (nullable = false)\n",
            " |-- SexVec: vector (nullable = true)\n",
            " |-- EmbarkedVec: vector (nullable = true)\n",
            " |-- features: vector (nullable = true)\n",
            " |-- rawPrediction: vector (nullable = true)\n",
            " |-- probability: vector (nullable = true)\n",
            " |-- prediction: double (nullable = false)\n",
            "\n"
          ]
        }
      ]
    },
    {
      "cell_type": "code",
      "source": [
        "results.select(['features','Survived','prediction']).show()"
      ],
      "metadata": {
        "colab": {
          "base_uri": "https://localhost:8080/"
        },
        "id": "PImeFotgCtsl",
        "outputId": "d425c814-b700-4c00-b1a7-b1d904ee7508"
      },
      "execution_count": 69,
      "outputs": [
        {
          "output_type": "stream",
          "name": "stdout",
          "text": [
            "+--------------------+--------+----------+\n",
            "|            features|Survived|prediction|\n",
            "+--------------------+--------+----------+\n",
            "|[1.0,1.0,18.0,1.0...|       0|       1.0|\n",
            "|[1.0,1.0,19.0,1.0...|       0|       1.0|\n",
            "|[1.0,1.0,21.0,0.0...|       0|       1.0|\n",
            "|[1.0,1.0,24.0,0.0...|       0|       1.0|\n",
            "|[1.0,1.0,36.0,0.0...|       0|       1.0|\n",
            "|[1.0,1.0,37.0,1.0...|       0|       0.0|\n",
            "|[1.0,1.0,40.0,0.0...|       0|       1.0|\n",
            "|[1.0,1.0,45.0,0.0...|       0|       0.0|\n",
            "|[1.0,1.0,45.0,0.0...|       0|       0.0|\n",
            "|[1.0,1.0,46.0,0.0...|       0|       1.0|\n",
            "|[1.0,1.0,47.0,0.0...|       0|       0.0|\n",
            "|[1.0,1.0,47.0,0.0...|       0|       0.0|\n",
            "|[1.0,1.0,54.0,0.0...|       0|       0.0|\n",
            "|[1.0,1.0,56.0,0.0...|       0|       0.0|\n",
            "|[1.0,1.0,56.0,0.0...|       0|       0.0|\n",
            "|[1.0,1.0,58.0,0.0...|       0|       0.0|\n",
            "|[1.0,1.0,61.0,0.0...|       0|       0.0|\n",
            "|[1.0,1.0,61.0,0.0...|       0|       0.0|\n",
            "|[1.0,1.0,64.0,1.0...|       0|       0.0|\n",
            "|[1.0,1.0,65.0,0.0...|       0|       0.0|\n",
            "+--------------------+--------+----------+\n",
            "only showing top 20 rows\n",
            "\n"
          ]
        }
      ]
    },
    {
      "cell_type": "code",
      "source": [
        "from pyspark.ml.evaluation import BinaryClassificationEvaluator"
      ],
      "metadata": {
        "id": "ynchgewCApuG"
      },
      "execution_count": 70,
      "outputs": []
    },
    {
      "cell_type": "code",
      "source": [
        "my_eval = BinaryClassificationEvaluator(rawPredictionCol='rawPrediction',labelCol='Survived')"
      ],
      "metadata": {
        "id": "_CreHot7A3_V"
      },
      "execution_count": 71,
      "outputs": []
    },
    {
      "cell_type": "code",
      "source": [
        "ROC = my_eval.evaluate(results)"
      ],
      "metadata": {
        "id": "CEdilB82Crni"
      },
      "execution_count": 72,
      "outputs": []
    },
    {
      "cell_type": "code",
      "source": [
        "ROC"
      ],
      "metadata": {
        "colab": {
          "base_uri": "https://localhost:8080/"
        },
        "id": "P9uBSR5CDjpc",
        "outputId": "24b51998-ee41-42b4-858b-53709432b3e3"
      },
      "execution_count": 73,
      "outputs": [
        {
          "output_type": "execute_result",
          "data": {
            "text/plain": [
              "0.8689589389534889"
            ]
          },
          "metadata": {},
          "execution_count": 73
        }
      ]
    },
    {
      "cell_type": "code",
      "source": [
        "test_data.columns"
      ],
      "metadata": {
        "colab": {
          "base_uri": "https://localhost:8080/"
        },
        "id": "i--A_pXrGkcH",
        "outputId": "768a6350-bfb0-4060-cfe9-d29794a47f0e"
      },
      "execution_count": 74,
      "outputs": [
        {
          "output_type": "execute_result",
          "data": {
            "text/plain": [
              "['Survived', 'Pclass', 'Sex', 'Age', 'SibSp', 'Parch', 'Fare', 'Embarked']"
            ]
          },
          "metadata": {},
          "execution_count": 74
        }
      ]
    },
    {
      "cell_type": "markdown",
      "source": [
        "#Deploying the Model to Predict Unlabeled Data"
      ],
      "metadata": {
        "id": "YS6u3-pGHxx4"
      }
    },
    {
      "cell_type": "code",
      "source": [
        "unlabeled_data = test_data.select(['Pclass', 'Sex', 'Age', 'SibSp', 'Parch', 'Fare', 'Embarked'])"
      ],
      "metadata": {
        "id": "TZ03OZYhG2CO"
      },
      "execution_count": 75,
      "outputs": []
    },
    {
      "cell_type": "code",
      "source": [
        "deployed_prediction = fitted_model.transform(unlabeled_data)"
      ],
      "metadata": {
        "id": "9aAPKCwuHSCT"
      },
      "execution_count": 76,
      "outputs": []
    },
    {
      "cell_type": "code",
      "source": [
        "deployed_prediction.select(['features','prediction']).show()"
      ],
      "metadata": {
        "colab": {
          "base_uri": "https://localhost:8080/"
        },
        "id": "15a2Q675HaNG",
        "outputId": "feb58707-8644-4529-e3df-92dd641bb4e1"
      },
      "execution_count": 77,
      "outputs": [
        {
          "output_type": "stream",
          "name": "stdout",
          "text": [
            "+--------------------+----------+\n",
            "|            features|prediction|\n",
            "+--------------------+----------+\n",
            "|[1.0,1.0,18.0,1.0...|       1.0|\n",
            "|[1.0,1.0,19.0,1.0...|       1.0|\n",
            "|[1.0,1.0,21.0,0.0...|       1.0|\n",
            "|[1.0,1.0,24.0,0.0...|       1.0|\n",
            "|[1.0,1.0,36.0,0.0...|       1.0|\n",
            "|[1.0,1.0,37.0,1.0...|       0.0|\n",
            "|[1.0,1.0,40.0,0.0...|       1.0|\n",
            "|[1.0,1.0,45.0,0.0...|       0.0|\n",
            "|[1.0,1.0,45.0,0.0...|       0.0|\n",
            "|[1.0,1.0,46.0,0.0...|       1.0|\n",
            "|[1.0,1.0,47.0,0.0...|       0.0|\n",
            "|[1.0,1.0,47.0,0.0...|       0.0|\n",
            "|[1.0,1.0,54.0,0.0...|       0.0|\n",
            "|[1.0,1.0,56.0,0.0...|       0.0|\n",
            "|[1.0,1.0,56.0,0.0...|       0.0|\n",
            "|[1.0,1.0,58.0,0.0...|       0.0|\n",
            "|[1.0,1.0,61.0,0.0...|       0.0|\n",
            "|[1.0,1.0,61.0,0.0...|       0.0|\n",
            "|[1.0,1.0,64.0,1.0...|       0.0|\n",
            "|[1.0,1.0,65.0,0.0...|       0.0|\n",
            "+--------------------+----------+\n",
            "only showing top 20 rows\n",
            "\n"
          ]
        }
      ]
    }
  ]
}