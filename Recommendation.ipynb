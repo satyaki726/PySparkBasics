{
  "nbformat": 4,
  "nbformat_minor": 0,
  "metadata": {
    "colab": {
      "provenance": [],
      "authorship_tag": "ABX9TyPNrEF7lB6pftcbHzWcRnoO"
    },
    "kernelspec": {
      "name": "python3",
      "display_name": "Python 3"
    },
    "language_info": {
      "name": "python"
    }
  },
  "cells": [
    {
      "cell_type": "code",
      "execution_count": 1,
      "metadata": {
        "colab": {
          "base_uri": "https://localhost:8080/"
        },
        "id": "LRtmJwQB_Psp",
        "outputId": "f83d79d6-dc2e-46bc-b2dd-3f7b68f33504"
      },
      "outputs": [
        {
          "output_type": "stream",
          "name": "stdout",
          "text": [
            "Looking in indexes: https://pypi.org/simple, https://us-python.pkg.dev/colab-wheels/public/simple/\n",
            "Collecting pyspark\n",
            "  Downloading pyspark-3.4.0.tar.gz (310.8 MB)\n",
            "\u001b[2K     \u001b[90m━━━━━━━━━━━━━━━━━━━━━━━━━━━━━━━━━━━━━━━\u001b[0m \u001b[32m310.8/310.8 MB\u001b[0m \u001b[31m4.8 MB/s\u001b[0m eta \u001b[36m0:00:00\u001b[0m\n",
            "\u001b[?25h  Preparing metadata (setup.py) ... \u001b[?25l\u001b[?25hdone\n",
            "Requirement already satisfied: py4j in /usr/local/lib/python3.10/dist-packages (0.10.9.7)\n",
            "Building wheels for collected packages: pyspark\n",
            "  Building wheel for pyspark (setup.py) ... \u001b[?25l\u001b[?25hdone\n",
            "  Created wheel for pyspark: filename=pyspark-3.4.0-py2.py3-none-any.whl size=311317130 sha256=8177710fa4a4ce503e4a2c1a443e3d56178d1e07195ba58ec8b0a1ae0ba28f3d\n",
            "  Stored in directory: /root/.cache/pip/wheels/7b/1b/4b/3363a1d04368e7ff0d408e57ff57966fcdf00583774e761327\n",
            "Successfully built pyspark\n",
            "Installing collected packages: pyspark\n",
            "Successfully installed pyspark-3.4.0\n"
          ]
        }
      ],
      "source": [
        "!pip install pyspark py4j"
      ]
    },
    {
      "cell_type": "code",
      "source": [
        "from pyspark.sql import SparkSession"
      ],
      "metadata": {
        "id": "ega1Or7KD8Go"
      },
      "execution_count": 2,
      "outputs": []
    },
    {
      "cell_type": "code",
      "source": [
        "spark = SparkSession.builder.appName('movie').getOrCreate()"
      ],
      "metadata": {
        "id": "k4c66arEECsI"
      },
      "execution_count": 4,
      "outputs": []
    },
    {
      "cell_type": "code",
      "source": [
        "data = spark.read.csv('movielens_ratings.csv',inferSchema=True, header=True)"
      ],
      "metadata": {
        "id": "U89oGcHTEMsM"
      },
      "execution_count": 5,
      "outputs": []
    },
    {
      "cell_type": "code",
      "source": [
        "data.show()"
      ],
      "metadata": {
        "colab": {
          "base_uri": "https://localhost:8080/"
        },
        "id": "OEKXbaTzEWiA",
        "outputId": "498f116e-5bb4-459b-ac30-7f775eb76e28"
      },
      "execution_count": 6,
      "outputs": [
        {
          "output_type": "stream",
          "name": "stdout",
          "text": [
            "+-------+------+------+\n",
            "|movieId|rating|userId|\n",
            "+-------+------+------+\n",
            "|      2|   3.0|     0|\n",
            "|      3|   1.0|     0|\n",
            "|      5|   2.0|     0|\n",
            "|      9|   4.0|     0|\n",
            "|     11|   1.0|     0|\n",
            "|     12|   2.0|     0|\n",
            "|     15|   1.0|     0|\n",
            "|     17|   1.0|     0|\n",
            "|     19|   1.0|     0|\n",
            "|     21|   1.0|     0|\n",
            "|     23|   1.0|     0|\n",
            "|     26|   3.0|     0|\n",
            "|     27|   1.0|     0|\n",
            "|     28|   1.0|     0|\n",
            "|     29|   1.0|     0|\n",
            "|     30|   1.0|     0|\n",
            "|     31|   1.0|     0|\n",
            "|     34|   1.0|     0|\n",
            "|     37|   1.0|     0|\n",
            "|     41|   2.0|     0|\n",
            "+-------+------+------+\n",
            "only showing top 20 rows\n",
            "\n"
          ]
        }
      ]
    },
    {
      "cell_type": "code",
      "source": [
        "from pyspark.ml.recommendation import ALS"
      ],
      "metadata": {
        "id": "JwEWCkxGEgP3"
      },
      "execution_count": 7,
      "outputs": []
    },
    {
      "cell_type": "code",
      "source": [
        "from pyspark.ml.evaluation import RegressionEvaluator"
      ],
      "metadata": {
        "id": "iQjcUmIPEm2t"
      },
      "execution_count": 8,
      "outputs": []
    },
    {
      "cell_type": "code",
      "source": [
        "data.describe().show()"
      ],
      "metadata": {
        "colab": {
          "base_uri": "https://localhost:8080/"
        },
        "id": "zXZsEigzEuI9",
        "outputId": "050936dc-561a-4386-c918-243e0afe7944"
      },
      "execution_count": 9,
      "outputs": [
        {
          "output_type": "stream",
          "name": "stdout",
          "text": [
            "+-------+------------------+------------------+------------------+\n",
            "|summary|           movieId|            rating|            userId|\n",
            "+-------+------------------+------------------+------------------+\n",
            "|  count|              1501|              1501|              1501|\n",
            "|   mean| 49.40572951365756|1.7741505662891406|14.383744170552964|\n",
            "| stddev|28.937034065088994| 1.187276166124803| 8.591040424293272|\n",
            "|    min|                 0|               1.0|                 0|\n",
            "|    max|                99|               5.0|                29|\n",
            "+-------+------------------+------------------+------------------+\n",
            "\n"
          ]
        }
      ]
    },
    {
      "cell_type": "code",
      "source": [
        "training,test = data.randomSplit([0.8,0.2])"
      ],
      "metadata": {
        "id": "l_RWuKKTFaZo"
      },
      "execution_count": 11,
      "outputs": []
    },
    {
      "cell_type": "code",
      "source": [
        "als = ALS(maxIter = 5, regParam=0.01, userCol='userId',itemCol = 'movieId',ratingCol='rating') "
      ],
      "metadata": {
        "id": "j8NJMM69FaC8"
      },
      "execution_count": 12,
      "outputs": []
    },
    {
      "cell_type": "code",
      "source": [
        "als_model = als.fit(training)"
      ],
      "metadata": {
        "id": "zkOWdz7oHv0J"
      },
      "execution_count": 14,
      "outputs": []
    },
    {
      "cell_type": "code",
      "source": [
        "predictions = als_model.transform(test)"
      ],
      "metadata": {
        "id": "WKcGTjwqH55h"
      },
      "execution_count": 16,
      "outputs": []
    },
    {
      "cell_type": "code",
      "source": [
        "predictions.show()"
      ],
      "metadata": {
        "id": "e-VDwCVKIL4S",
        "outputId": "72e9c7bb-2dcc-471c-8b35-c56693022f3d",
        "colab": {
          "base_uri": "https://localhost:8080/"
        }
      },
      "execution_count": 17,
      "outputs": [
        {
          "output_type": "stream",
          "name": "stdout",
          "text": [
            "+-------+------+------+-----------+\n",
            "|movieId|rating|userId| prediction|\n",
            "+-------+------+------+-----------+\n",
            "|      3|   1.0|    28| -1.0837516|\n",
            "|      0|   1.0|    22|  0.5507598|\n",
            "|      5|   2.0|    22| -0.5912574|\n",
            "|      5|   1.0|    13|  2.0051832|\n",
            "|      6|   1.0|    13|  0.4963708|\n",
            "|      0|   1.0|    20|  1.0030634|\n",
            "|      3|   1.0|     9|-0.14452438|\n",
            "|      5|   1.0|     8|   3.773305|\n",
            "|      6|   2.0|    23|  1.3595606|\n",
            "|      2|   2.0|     7| -0.7760804|\n",
            "|      4|   1.0|     7|  1.2490206|\n",
            "|      7|   1.0|     7|  4.4470334|\n",
            "|      0|   3.0|    10|-0.22927204|\n",
            "|      7|   1.0|    25|    2.34634|\n",
            "|      4|   1.0|    29|  1.5205306|\n",
            "|      2|   4.0|    21|   3.925638|\n",
            "|      0|   1.0|    11| 0.82289046|\n",
            "|      4|   1.0|    14| 0.29416555|\n",
            "|      6|   1.0|    14|  2.3863883|\n",
            "|      2|   3.0|     0| -2.8354392|\n",
            "+-------+------+------+-----------+\n",
            "only showing top 20 rows\n",
            "\n"
          ]
        }
      ]
    },
    {
      "cell_type": "code",
      "source": [
        "evaluator = RegressionEvaluator(metricName='rmse',labelCol='rating',predictionCol='prediction')"
      ],
      "metadata": {
        "id": "QnCOuOb6Ihyd"
      },
      "execution_count": 20,
      "outputs": []
    },
    {
      "cell_type": "code",
      "source": [
        "rmse = evaluator.evaluate(predictions)\n",
        "rmse"
      ],
      "metadata": {
        "id": "zFIb0CQLJHB1",
        "outputId": "50a9c81a-adba-492a-fe4c-766391c95b24",
        "colab": {
          "base_uri": "https://localhost:8080/"
        }
      },
      "execution_count": 23,
      "outputs": [
        {
          "output_type": "execute_result",
          "data": {
            "text/plain": [
              "2.276856066899663"
            ]
          },
          "metadata": {},
          "execution_count": 23
        }
      ]
    },
    {
      "cell_type": "code",
      "source": [
        "single_user = test.filter(test['userId']==11).select(['movieId','userId'])"
      ],
      "metadata": {
        "id": "wFK74cztKFKq"
      },
      "execution_count": 24,
      "outputs": []
    },
    {
      "cell_type": "code",
      "source": [
        "single_user.show()"
      ],
      "metadata": {
        "id": "K5mR09brKPvB",
        "outputId": "eac1958b-9801-4286-9f56-df173f18782e",
        "colab": {
          "base_uri": "https://localhost:8080/"
        }
      },
      "execution_count": 25,
      "outputs": [
        {
          "output_type": "stream",
          "name": "stdout",
          "text": [
            "+-------+------+\n",
            "|movieId|userId|\n",
            "+-------+------+\n",
            "|      0|    11|\n",
            "|     13|    11|\n",
            "|     19|    11|\n",
            "|     25|    11|\n",
            "|     35|    11|\n",
            "|     38|    11|\n",
            "|     39|    11|\n",
            "|     40|    11|\n",
            "|     50|    11|\n",
            "|     51|    11|\n",
            "|     64|    11|\n",
            "|     79|    11|\n",
            "+-------+------+\n",
            "\n"
          ]
        }
      ]
    },
    {
      "cell_type": "code",
      "source": [
        "recommendations = als_model.transform(single_user)"
      ],
      "metadata": {
        "id": "zcQ5ajZ9NF3q"
      },
      "execution_count": 26,
      "outputs": []
    },
    {
      "cell_type": "code",
      "source": [
        "recommendations.orderBy('prediction',ascending=False).show()"
      ],
      "metadata": {
        "id": "wn5yVTnmNS9m",
        "outputId": "3c6ca05a-f551-4ee4-8722-ed2ec4183964",
        "colab": {
          "base_uri": "https://localhost:8080/"
        }
      },
      "execution_count": 27,
      "outputs": [
        {
          "output_type": "stream",
          "name": "stdout",
          "text": [
            "+-------+------+-----------+\n",
            "|movieId|userId| prediction|\n",
            "+-------+------+-----------+\n",
            "|     35|    11|  2.4809632|\n",
            "|     64|    11|  2.1812723|\n",
            "|     50|    11|  1.1570115|\n",
            "|     13|    11| 0.92365324|\n",
            "|      0|    11| 0.82289046|\n",
            "|     19|    11|  0.4037799|\n",
            "|     39|    11|  -0.363097|\n",
            "|     38|    11|-0.50289917|\n",
            "|     25|    11| -1.3100042|\n",
            "|     79|    11| -1.7358514|\n",
            "|     51|    11| -2.7608528|\n",
            "|     40|    11|  -5.230209|\n",
            "+-------+------+-----------+\n",
            "\n"
          ]
        }
      ]
    }
  ]
}