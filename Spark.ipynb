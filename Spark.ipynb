{
  "nbformat": 4,
  "nbformat_minor": 0,
  "metadata": {
    "colab": {
      "provenance": [],
      "authorship_tag": "ABX9TyPgpUcoLIfibz/K+srNg3Sv",
      "include_colab_link": true
    },
    "kernelspec": {
      "name": "python3",
      "display_name": "Python 3"
    },
    "language_info": {
      "name": "python"
    }
  },
  "cells": [
    {
      "cell_type": "markdown",
      "metadata": {
        "id": "view-in-github",
        "colab_type": "text"
      },
      "source": [
        "<a href=\"https://colab.research.google.com/github/satyaki726/PySparkBasics/blob/master/Spark.ipynb\" target=\"_parent\"><img src=\"https://colab.research.google.com/assets/colab-badge.svg\" alt=\"Open In Colab\"/></a>"
      ]
    },
    {
      "cell_type": "markdown",
      "source": [
        "**Installation Of PySpark Library**"
      ],
      "metadata": {
        "id": "d9kVQd6NAKJ7"
      }
    },
    {
      "cell_type": "code",
      "execution_count": null,
      "metadata": {
        "colab": {
          "base_uri": "https://localhost:8080/"
        },
        "id": "8VOpZfSvZfW5",
        "outputId": "a1a39eaa-3e4c-4461-cda6-349476cb70ae"
      },
      "outputs": [
        {
          "output_type": "stream",
          "name": "stdout",
          "text": [
            "Looking in indexes: https://pypi.org/simple, https://us-python.pkg.dev/colab-wheels/public/simple/\n",
            "Collecting pyspark\n",
            "  Downloading pyspark-3.4.0.tar.gz (310.8 MB)\n",
            "\u001b[2K     \u001b[90m━━━━━━━━━━━━━━━━━━━━━━━━━━━━━━━━━━━━━━━\u001b[0m \u001b[32m310.8/310.8 MB\u001b[0m \u001b[31m4.9 MB/s\u001b[0m eta \u001b[36m0:00:00\u001b[0m\n",
            "\u001b[?25h  Preparing metadata (setup.py) ... \u001b[?25l\u001b[?25hdone\n",
            "Requirement already satisfied: py4j in /usr/local/lib/python3.10/dist-packages (0.10.9.7)\n",
            "Building wheels for collected packages: pyspark\n",
            "  Building wheel for pyspark (setup.py) ... \u001b[?25l\u001b[?25hdone\n",
            "  Created wheel for pyspark: filename=pyspark-3.4.0-py2.py3-none-any.whl size=311317145 sha256=a16518ef68bed3ff395cf27b0ae8360c1a535655117b68da7b001e3b026ee9d6\n",
            "  Stored in directory: /root/.cache/pip/wheels/7b/1b/4b/3363a1d04368e7ff0d408e57ff57966fcdf00583774e761327\n",
            "Successfully built pyspark\n",
            "Installing collected packages: pyspark\n",
            "Successfully installed pyspark-3.4.0\n"
          ]
        }
      ],
      "source": [
        "!pip install pyspark py4j"
      ]
    },
    {
      "cell_type": "code",
      "source": [
        "from pyspark.sql import SparkSession"
      ],
      "metadata": {
        "id": "BqZpix70rNGq"
      },
      "execution_count": null,
      "outputs": []
    },
    {
      "cell_type": "code",
      "source": [
        "spark = SparkSession.builder.appName('Basics').getOrCreate()"
      ],
      "metadata": {
        "id": "VyAFCcwsrYtE"
      },
      "execution_count": null,
      "outputs": []
    },
    {
      "cell_type": "code",
      "source": [
        "df = spark.read.json('/content/sample_data/person.json')"
      ],
      "metadata": {
        "id": "it0RQ1nGrk8R"
      },
      "execution_count": null,
      "outputs": []
    },
    {
      "cell_type": "code",
      "source": [
        "df.show()"
      ],
      "metadata": {
        "colab": {
          "base_uri": "https://localhost:8080/"
        },
        "id": "l26SUZNlrsbH",
        "outputId": "8e9ab8c4-7e3e-45b3-c727-93207e01d603"
      },
      "execution_count": null,
      "outputs": [
        {
          "output_type": "stream",
          "name": "stdout",
          "text": [
            "+----+-------+\n",
            "| age|   name|\n",
            "+----+-------+\n",
            "|null|  Arnab|\n",
            "|  23|Satyaki|\n",
            "|  23|   Rima|\n",
            "+----+-------+\n",
            "\n"
          ]
        }
      ]
    },
    {
      "cell_type": "code",
      "source": [
        "df.printSchema() #method"
      ],
      "metadata": {
        "colab": {
          "base_uri": "https://localhost:8080/"
        },
        "id": "1pKLs--11VUe",
        "outputId": "3d403e43-eb89-4dcd-f753-b9a9f47c6736"
      },
      "execution_count": null,
      "outputs": [
        {
          "output_type": "stream",
          "name": "stdout",
          "text": [
            "root\n",
            " |-- age: long (nullable = true)\n",
            " |-- name: string (nullable = true)\n",
            "\n"
          ]
        }
      ]
    },
    {
      "cell_type": "code",
      "source": [
        "df.columns #attribute"
      ],
      "metadata": {
        "colab": {
          "base_uri": "https://localhost:8080/"
        },
        "id": "9L7sKfON8stJ",
        "outputId": "a0a8b339-39af-4980-8d26-c77ef0928318"
      },
      "execution_count": null,
      "outputs": [
        {
          "output_type": "execute_result",
          "data": {
            "text/plain": [
              "['age', 'name']"
            ]
          },
          "metadata": {},
          "execution_count": 15
        }
      ]
    },
    {
      "cell_type": "code",
      "source": [
        "df.describe()"
      ],
      "metadata": {
        "colab": {
          "base_uri": "https://localhost:8080/"
        },
        "id": "N8h769pH82K0",
        "outputId": "ecc9a647-82fc-456e-8706-80a2b9c4778d"
      },
      "execution_count": null,
      "outputs": [
        {
          "output_type": "execute_result",
          "data": {
            "text/plain": [
              "DataFrame[summary: string, age: string, name: string]"
            ]
          },
          "metadata": {},
          "execution_count": 16
        }
      ]
    },
    {
      "cell_type": "code",
      "source": [
        "df.describe().show()"
      ],
      "metadata": {
        "colab": {
          "base_uri": "https://localhost:8080/"
        },
        "id": "Gk29qrLn9Ba-",
        "outputId": "48e63e2c-aa97-466c-f6a8-2e2c2ad0f497"
      },
      "execution_count": null,
      "outputs": [
        {
          "output_type": "stream",
          "name": "stdout",
          "text": [
            "+-------+----+-------+\n",
            "|summary| age|   name|\n",
            "+-------+----+-------+\n",
            "|  count|   2|      3|\n",
            "|   mean|23.0|   null|\n",
            "| stddev| 0.0|   null|\n",
            "|    min|  23|  Arnab|\n",
            "|    max|  23|Satyaki|\n",
            "+-------+----+-------+\n",
            "\n"
          ]
        }
      ]
    },
    {
      "cell_type": "markdown",
      "source": [
        "**How to Change Datatype Of A Field In Schema**"
      ],
      "metadata": {
        "id": "nBGNrqSt-qLd"
      }
    },
    {
      "cell_type": "code",
      "source": [
        "from pyspark.sql.types import (\n",
        "    StructField,StringType,\n",
        "    IntegerType,StructType\n",
        ")"
      ],
      "metadata": {
        "id": "tlgRjTpS9Tei"
      },
      "execution_count": null,
      "outputs": []
    },
    {
      "cell_type": "code",
      "source": [
        "data_schema = [StructField('age',IntegerType(),True),\n",
        "               StructField('name',StringType(),True)]"
      ],
      "metadata": {
        "id": "vxBdugfB-8YF"
      },
      "execution_count": null,
      "outputs": []
    },
    {
      "cell_type": "code",
      "source": [
        "final_struc = StructType(fields=data_schema)"
      ],
      "metadata": {
        "id": "lvhUqbrb_OUK"
      },
      "execution_count": null,
      "outputs": []
    },
    {
      "cell_type": "code",
      "source": [
        "df = spark.read.json('/content/sample_data/person.json',schema=final_struc)"
      ],
      "metadata": {
        "id": "1EUoDR62_eNw"
      },
      "execution_count": null,
      "outputs": []
    },
    {
      "cell_type": "code",
      "source": [
        "df.printSchema()"
      ],
      "metadata": {
        "colab": {
          "base_uri": "https://localhost:8080/"
        },
        "id": "wR5qd3rj_kf4",
        "outputId": "7f23af0e-772e-4005-f9eb-cbaf8f34ff01"
      },
      "execution_count": null,
      "outputs": [
        {
          "output_type": "stream",
          "name": "stdout",
          "text": [
            "root\n",
            " |-- age: integer (nullable = true)\n",
            " |-- name: string (nullable = true)\n",
            "\n"
          ]
        }
      ]
    },
    {
      "cell_type": "code",
      "source": [
        "type(df['age'])"
      ],
      "metadata": {
        "colab": {
          "base_uri": "https://localhost:8080/"
        },
        "id": "dHF-_WUNPbtU",
        "outputId": "a432466b-55f2-4422-a70e-b2067f76c3f4"
      },
      "execution_count": null,
      "outputs": [
        {
          "output_type": "execute_result",
          "data": {
            "text/plain": [
              "pyspark.sql.column.Column"
            ]
          },
          "metadata": {},
          "execution_count": 28
        }
      ]
    },
    {
      "cell_type": "code",
      "source": [
        "type(df.select('age'))"
      ],
      "metadata": {
        "colab": {
          "base_uri": "https://localhost:8080/"
        },
        "id": "_bTxLa2vQHUd",
        "outputId": "17f769c9-fab1-43fb-ff87-6141ec85c6c0"
      },
      "execution_count": null,
      "outputs": [
        {
          "output_type": "execute_result",
          "data": {
            "text/plain": [
              "pyspark.sql.dataframe.DataFrame"
            ]
          },
          "metadata": {},
          "execution_count": 30
        }
      ]
    },
    {
      "cell_type": "code",
      "source": [
        "type(df['age'])"
      ],
      "metadata": {
        "colab": {
          "base_uri": "https://localhost:8080/"
        },
        "id": "egt6Eb4LQbsj",
        "outputId": "ca6475f7-7a8f-4b55-b555-dc14462a0904"
      },
      "execution_count": null,
      "outputs": [
        {
          "output_type": "execute_result",
          "data": {
            "text/plain": [
              "pyspark.sql.column.Column"
            ]
          },
          "metadata": {},
          "execution_count": 36
        }
      ]
    },
    {
      "cell_type": "code",
      "source": [
        "type(df.head(2)[0])"
      ],
      "metadata": {
        "colab": {
          "base_uri": "https://localhost:8080/"
        },
        "id": "eDbO1lBKQrp2",
        "outputId": "efa53fd7-e77a-40f1-aa33-6ba49db47755"
      },
      "execution_count": null,
      "outputs": [
        {
          "output_type": "execute_result",
          "data": {
            "text/plain": [
              "pyspark.sql.types.Row"
            ]
          },
          "metadata": {},
          "execution_count": 35
        }
      ]
    },
    {
      "cell_type": "code",
      "source": [
        "df.select('age').show()\n",
        "df.select('name').show()"
      ],
      "metadata": {
        "colab": {
          "base_uri": "https://localhost:8080/"
        },
        "id": "rNP4JKHPQQcb",
        "outputId": "db636e94-babc-466b-f4f1-d955705f970d"
      },
      "execution_count": null,
      "outputs": [
        {
          "output_type": "stream",
          "name": "stdout",
          "text": [
            "+----+\n",
            "| age|\n",
            "+----+\n",
            "|null|\n",
            "|  23|\n",
            "|  23|\n",
            "+----+\n",
            "\n",
            "+-------+\n",
            "|   name|\n",
            "+-------+\n",
            "|  Arnab|\n",
            "|Satyaki|\n",
            "|   Rima|\n",
            "+-------+\n",
            "\n"
          ]
        }
      ]
    },
    {
      "cell_type": "code",
      "source": [
        "df.select(['age','name']).show()"
      ],
      "metadata": {
        "colab": {
          "base_uri": "https://localhost:8080/"
        },
        "id": "GiJdwtEUREC3",
        "outputId": "2d7786ba-ffd1-4edf-c54a-0f22d2c4c19d"
      },
      "execution_count": null,
      "outputs": [
        {
          "output_type": "stream",
          "name": "stdout",
          "text": [
            "+----+-------+\n",
            "| age|   name|\n",
            "+----+-------+\n",
            "|null|  Arnab|\n",
            "|  23|Satyaki|\n",
            "|  23|   Rima|\n",
            "+----+-------+\n",
            "\n"
          ]
        }
      ]
    },
    {
      "cell_type": "markdown",
      "source": [
        "Added a new Column "
      ],
      "metadata": {
        "id": "lUFf6_RbR2Q2"
      }
    },
    {
      "cell_type": "code",
      "source": [
        "df.withColumn('double_age',df['age']*2).show()"
      ],
      "metadata": {
        "colab": {
          "base_uri": "https://localhost:8080/"
        },
        "id": "lynnRNQgRrp2",
        "outputId": "c36e9a9a-68f0-46ef-dc06-4b3a8556125f"
      },
      "execution_count": null,
      "outputs": [
        {
          "output_type": "stream",
          "name": "stdout",
          "text": [
            "+----+-------+----------+\n",
            "| age|   name|double_age|\n",
            "+----+-------+----------+\n",
            "|null|  Arnab|      null|\n",
            "|  23|Satyaki|        46|\n",
            "|  23|   Rima|        46|\n",
            "+----+-------+----------+\n",
            "\n"
          ]
        }
      ]
    },
    {
      "cell_type": "markdown",
      "source": [
        "Rename A Column"
      ],
      "metadata": {
        "id": "tP6Y8vQ1R_RN"
      }
    },
    {
      "cell_type": "code",
      "source": [
        "df.withColumnRenamed('age','my_new_age').show()"
      ],
      "metadata": {
        "colab": {
          "base_uri": "https://localhost:8080/"
        },
        "id": "awwnQIgbSE5I",
        "outputId": "d5b1aaa3-39ea-4f0b-8e12-523bbb3042c3"
      },
      "execution_count": null,
      "outputs": [
        {
          "output_type": "stream",
          "name": "stdout",
          "text": [
            "+----------+-------+\n",
            "|my_new_age|   name|\n",
            "+----------+-------+\n",
            "|      null|  Arnab|\n",
            "|        23|Satyaki|\n",
            "|        23|   Rima|\n",
            "+----------+-------+\n",
            "\n"
          ]
        }
      ]
    },
    {
      "cell_type": "markdown",
      "source": [
        "Creating a SQL View"
      ],
      "metadata": {
        "id": "qR4mPS_4SbBi"
      }
    },
    {
      "cell_type": "code",
      "source": [
        "df.createOrReplaceTempView('people')"
      ],
      "metadata": {
        "id": "yrleFbv4SYos"
      },
      "execution_count": null,
      "outputs": []
    },
    {
      "cell_type": "code",
      "source": [
        "results = spark.sql(\"Select * From people\")"
      ],
      "metadata": {
        "id": "sTeZVF4zTH6n"
      },
      "execution_count": null,
      "outputs": []
    },
    {
      "cell_type": "code",
      "source": [
        "results.show()"
      ],
      "metadata": {
        "id": "VkRWgbWpTdDI",
        "outputId": "293b03e9-f5e8-4daf-cc41-afa08a1bb559",
        "colab": {
          "base_uri": "https://localhost:8080/"
        }
      },
      "execution_count": null,
      "outputs": [
        {
          "output_type": "stream",
          "name": "stdout",
          "text": [
            "+----+-------+\n",
            "| age|   name|\n",
            "+----+-------+\n",
            "|null|  Arnab|\n",
            "|  23|Satyaki|\n",
            "|  23|   Rima|\n",
            "+----+-------+\n",
            "\n"
          ]
        }
      ]
    }
  ]
}