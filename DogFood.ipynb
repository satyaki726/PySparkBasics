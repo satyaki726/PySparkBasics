{
  "nbformat": 4,
  "nbformat_minor": 0,
  "metadata": {
    "colab": {
      "provenance": [],
      "authorship_tag": "ABX9TyNFnU9FvanubIQKMZA/wNb/"
    },
    "kernelspec": {
      "name": "python3",
      "display_name": "Python 3"
    },
    "language_info": {
      "name": "python"
    }
  },
  "cells": [
    {
      "cell_type": "code",
      "execution_count": 1,
      "metadata": {
        "colab": {
          "base_uri": "https://localhost:8080/"
        },
        "id": "Ic-mtGxPDAt3",
        "outputId": "7b1f03d6-f2ce-461d-f378-8f7e70a76456"
      },
      "outputs": [
        {
          "output_type": "stream",
          "name": "stdout",
          "text": [
            "Looking in indexes: https://pypi.org/simple, https://us-python.pkg.dev/colab-wheels/public/simple/\n",
            "Collecting pyspark\n",
            "  Downloading pyspark-3.4.0.tar.gz (310.8 MB)\n",
            "\u001b[2K     \u001b[90m━━━━━━━━━━━━━━━━━━━━━━━━━━━━━━━━━━━━━━━\u001b[0m \u001b[32m310.8/310.8 MB\u001b[0m \u001b[31m3.0 MB/s\u001b[0m eta \u001b[36m0:00:00\u001b[0m\n",
            "\u001b[?25h  Preparing metadata (setup.py) ... \u001b[?25l\u001b[?25hdone\n",
            "Requirement already satisfied: py4j in /usr/local/lib/python3.10/dist-packages (0.10.9.7)\n",
            "Building wheels for collected packages: pyspark\n",
            "  Building wheel for pyspark (setup.py) ... \u001b[?25l\u001b[?25hdone\n",
            "  Created wheel for pyspark: filename=pyspark-3.4.0-py2.py3-none-any.whl size=311317130 sha256=7daf1a361f31a533ec8d46599bc2de305bcec215bfcdbf156edb6e39aacca46c\n",
            "  Stored in directory: /root/.cache/pip/wheels/7b/1b/4b/3363a1d04368e7ff0d408e57ff57966fcdf00583774e761327\n",
            "Successfully built pyspark\n",
            "Installing collected packages: pyspark\n",
            "Successfully installed pyspark-3.4.0\n"
          ]
        }
      ],
      "source": [
        "!pip install pyspark py4j"
      ]
    },
    {
      "cell_type": "code",
      "source": [
        "from pyspark.sql import SparkSession"
      ],
      "metadata": {
        "id": "6IOrDGMULR9H"
      },
      "execution_count": 2,
      "outputs": []
    },
    {
      "cell_type": "code",
      "source": [
        "spark = SparkSession.builder.appName('dogfood').getOrCreate()"
      ],
      "metadata": {
        "id": "CXXFlhSTLZya"
      },
      "execution_count": 3,
      "outputs": []
    },
    {
      "cell_type": "code",
      "source": [
        "data = spark.read.csv('dog_food.csv',inferSchema=True,header=True)"
      ],
      "metadata": {
        "id": "TMz7Ct43Lla2"
      },
      "execution_count": 4,
      "outputs": []
    },
    {
      "cell_type": "code",
      "source": [
        "data.show()"
      ],
      "metadata": {
        "colab": {
          "base_uri": "https://localhost:8080/"
        },
        "id": "9CleblTXLu9v",
        "outputId": "6ee21ee7-1b88-4360-9caa-34d6ef612d72"
      },
      "execution_count": 5,
      "outputs": [
        {
          "output_type": "stream",
          "name": "stdout",
          "text": [
            "+---+---+----+---+-------+\n",
            "|  A|  B|   C|  D|Spoiled|\n",
            "+---+---+----+---+-------+\n",
            "|  4|  2|12.0|  3|    1.0|\n",
            "|  5|  6|12.0|  7|    1.0|\n",
            "|  6|  2|13.0|  6|    1.0|\n",
            "|  4|  2|12.0|  1|    1.0|\n",
            "|  4|  2|12.0|  3|    1.0|\n",
            "| 10|  3|13.0|  9|    1.0|\n",
            "|  8|  5|14.0|  5|    1.0|\n",
            "|  5|  8|12.0|  8|    1.0|\n",
            "|  6|  5|12.0|  9|    1.0|\n",
            "|  3|  3|12.0|  1|    1.0|\n",
            "|  9|  8|11.0|  3|    1.0|\n",
            "|  1| 10|12.0|  3|    1.0|\n",
            "|  1|  5|13.0| 10|    1.0|\n",
            "|  2| 10|12.0|  6|    1.0|\n",
            "|  1| 10|11.0|  4|    1.0|\n",
            "|  5|  3|12.0|  2|    1.0|\n",
            "|  4|  9|11.0|  8|    1.0|\n",
            "|  5|  1|11.0|  1|    1.0|\n",
            "|  4|  9|12.0| 10|    1.0|\n",
            "|  5|  8|10.0|  9|    1.0|\n",
            "+---+---+----+---+-------+\n",
            "only showing top 20 rows\n",
            "\n"
          ]
        }
      ]
    },
    {
      "cell_type": "code",
      "source": [
        "from pyspark.ml.feature import VectorAssembler"
      ],
      "metadata": {
        "id": "8cALJUZgMYfo"
      },
      "execution_count": 7,
      "outputs": []
    },
    {
      "cell_type": "code",
      "source": [
        "assembler = VectorAssembler(inputCols=['A','B','C','D'],outputCol='features')"
      ],
      "metadata": {
        "id": "sw3UkETAMgYH"
      },
      "execution_count": 8,
      "outputs": []
    },
    {
      "cell_type": "code",
      "source": [
        "output = assembler.transform(data)"
      ],
      "metadata": {
        "id": "fuVkHFBgNK0Q"
      },
      "execution_count": 9,
      "outputs": []
    },
    {
      "cell_type": "code",
      "source": [
        "output.printSchema()"
      ],
      "metadata": {
        "colab": {
          "base_uri": "https://localhost:8080/"
        },
        "id": "eKX9UaDLNahm",
        "outputId": "64a75166-b826-421d-96a7-d21df1880597"
      },
      "execution_count": 10,
      "outputs": [
        {
          "output_type": "stream",
          "name": "stdout",
          "text": [
            "root\n",
            " |-- A: integer (nullable = true)\n",
            " |-- B: integer (nullable = true)\n",
            " |-- C: double (nullable = true)\n",
            " |-- D: integer (nullable = true)\n",
            " |-- Spoiled: double (nullable = true)\n",
            " |-- features: vector (nullable = true)\n",
            "\n"
          ]
        }
      ]
    },
    {
      "cell_type": "code",
      "source": [
        "final = output.select(['features','Spoiled'])"
      ],
      "metadata": {
        "id": "fOuvZQUUOQSh"
      },
      "execution_count": 16,
      "outputs": []
    },
    {
      "cell_type": "code",
      "source": [
        "final.show()"
      ],
      "metadata": {
        "colab": {
          "base_uri": "https://localhost:8080/"
        },
        "id": "mapNh__oOXBH",
        "outputId": "82319317-5a09-42e3-ebbf-f51ae6e73505"
      },
      "execution_count": 17,
      "outputs": [
        {
          "output_type": "stream",
          "name": "stdout",
          "text": [
            "+-------------------+-------+\n",
            "|           features|Spoiled|\n",
            "+-------------------+-------+\n",
            "| [4.0,2.0,12.0,3.0]|    1.0|\n",
            "| [5.0,6.0,12.0,7.0]|    1.0|\n",
            "| [6.0,2.0,13.0,6.0]|    1.0|\n",
            "| [4.0,2.0,12.0,1.0]|    1.0|\n",
            "| [4.0,2.0,12.0,3.0]|    1.0|\n",
            "|[10.0,3.0,13.0,9.0]|    1.0|\n",
            "| [8.0,5.0,14.0,5.0]|    1.0|\n",
            "| [5.0,8.0,12.0,8.0]|    1.0|\n",
            "| [6.0,5.0,12.0,9.0]|    1.0|\n",
            "| [3.0,3.0,12.0,1.0]|    1.0|\n",
            "| [9.0,8.0,11.0,3.0]|    1.0|\n",
            "|[1.0,10.0,12.0,3.0]|    1.0|\n",
            "|[1.0,5.0,13.0,10.0]|    1.0|\n",
            "|[2.0,10.0,12.0,6.0]|    1.0|\n",
            "|[1.0,10.0,11.0,4.0]|    1.0|\n",
            "| [5.0,3.0,12.0,2.0]|    1.0|\n",
            "| [4.0,9.0,11.0,8.0]|    1.0|\n",
            "| [5.0,1.0,11.0,1.0]|    1.0|\n",
            "|[4.0,9.0,12.0,10.0]|    1.0|\n",
            "| [5.0,8.0,10.0,9.0]|    1.0|\n",
            "+-------------------+-------+\n",
            "only showing top 20 rows\n",
            "\n"
          ]
        }
      ]
    },
    {
      "cell_type": "code",
      "source": [
        "from pyspark.ml.classification import RandomForestClassifier"
      ],
      "metadata": {
        "id": "unDL_BFELzi3"
      },
      "execution_count": 6,
      "outputs": []
    },
    {
      "cell_type": "code",
      "source": [
        "rfc = RandomForestClassifier(labelCol='Spoiled')"
      ],
      "metadata": {
        "id": "BxiD7pbMMLTo"
      },
      "execution_count": 13,
      "outputs": []
    },
    {
      "cell_type": "code",
      "source": [
        "rfc_model = rfc.fit(final)"
      ],
      "metadata": {
        "id": "Spr2GQ2INhVn"
      },
      "execution_count": 18,
      "outputs": []
    },
    {
      "cell_type": "code",
      "source": [
        "rfc_model.featureImportances"
      ],
      "metadata": {
        "colab": {
          "base_uri": "https://localhost:8080/"
        },
        "id": "nBd4ClwUNsZm",
        "outputId": "9d002f26-8561-491c-a8ed-09e7d28af85f"
      },
      "execution_count": 19,
      "outputs": [
        {
          "output_type": "execute_result",
          "data": {
            "text/plain": [
              "SparseVector(4, {0: 0.0164, 1: 0.0261, 2: 0.9321, 3: 0.0255})"
            ]
          },
          "metadata": {},
          "execution_count": 19
        }
      ]
    }
  ]
}